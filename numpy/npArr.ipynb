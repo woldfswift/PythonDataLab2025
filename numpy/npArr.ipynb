{
 "cells": [
  {
   "cell_type": "markdown",
   "id": "994118da",
   "metadata": {},
   "source": [
    "# 复习：python数组"
   ]
  },
  {
   "cell_type": "markdown",
   "id": "26c368e7",
   "metadata": {},
   "source": [
    "## 使用array模块创建一个数组"
   ]
  },
  {
   "cell_type": "code",
   "execution_count": null,
   "id": "d444b759",
   "metadata": {},
   "outputs": [],
   "source": [
    "import array as arr\n",
    "a = arr.array('i', [2, 5, 62, 5, 42, 52, 48, 5])\n",
    "print(a)"
   ]
  },
  {
   "cell_type": "markdown",
   "id": "7c7784b2",
   "metadata": {},
   "source": [
    "### 在创建 array.array 时，需要指定存储数据的类型。以下是常用的类型代码：\n",
    "\n",
    "'i'：有符号整数\n",
    "\n",
    "'f'：浮点数\n",
    "\n",
    "'d'：双精度浮点数\n",
    "\n",
    "'b'：有符号字节\n",
    "\n",
    "'B'：无符号字节"
   ]
  },
  {
   "cell_type": "markdown",
   "id": "75fadbbe",
   "metadata": {},
   "source": [
    "### 访问数组元素"
   ]
  },
  {
   "cell_type": "code",
   "execution_count": null,
   "id": "6eb78afc",
   "metadata": {},
   "outputs": [],
   "source": [
    "print( a[0])    # 第一个元素\n",
    "print( a[1])    # 第二个元素\n",
    "print( a[-1])   # 最后一个元素"
   ]
  },
  {
   "cell_type": "markdown",
   "id": "50c7efc5",
   "metadata": {},
   "source": [
    "###　数组的切片"
   ]
  },
  {
   "cell_type": "code",
   "execution_count": null,
   "id": "addceb3e",
   "metadata": {},
   "outputs": [],
   "source": [
    "print(a[2:5]) # 第3-第5个元素\n",
    "print(a[:-5]) # 从开始到第4个元素\n",
    "print(a[5:])  # 从第6个元素到末尾\n",
    "print(a[:])   # 从开始到末尾"
   ]
  },
  {
   "cell_type": "markdown",
   "id": "bee43e12",
   "metadata": {},
   "source": [
    "### 更改或添加元素"
   ]
  },
  {
   "cell_type": "code",
   "execution_count": null,
   "id": "e3d7e370",
   "metadata": {},
   "outputs": [],
   "source": [
    "print(a)\n",
    "a[0] = 0    # 改变第一个元素\n",
    "print(a) "
   ]
  },
  {
   "cell_type": "code",
   "execution_count": null,
   "id": "5da805cb",
   "metadata": {},
   "outputs": [],
   "source": [
    "print(a)\n",
    "a[2:5] = arr.array('i', [4, 6, 8])   # 改变第3到第5个元素\n",
    "print(a)"
   ]
  },
  {
   "cell_type": "code",
   "execution_count": null,
   "id": "9c089490",
   "metadata": {},
   "outputs": [],
   "source": [
    "print(a)\n",
    "a.append(4)\n",
    "print(a)"
   ]
  },
  {
   "cell_type": "code",
   "execution_count": null,
   "id": "3244fd4d",
   "metadata": {},
   "outputs": [],
   "source": [
    "print(a)\n",
    "a.extend([5, 6, 7])   # extend()将iterable追加到数组的末尾\n",
    "print(a)"
   ]
  },
  {
   "cell_type": "markdown",
   "id": "98b02b53",
   "metadata": {},
   "source": [
    "### 使用+运算符连接两个数组"
   ]
  },
  {
   "cell_type": "code",
   "execution_count": null,
   "id": "55e4275c",
   "metadata": {},
   "outputs": [],
   "source": [
    "odd = arr.array('i', [1, 3, 5])\n",
    "even = arr.array('i', [2, 4, 6])\n",
    "\n",
    "numbers = arr.array('i')   \n",
    "numbers = odd + even\n",
    "print(numbers)"
   ]
  },
  {
   "cell_type": "markdown",
   "id": "3a15da5d",
   "metadata": {},
   "source": [
    "### 删除数组中的元素"
   ]
  },
  {
   "cell_type": "code",
   "execution_count": null,
   "id": "2a4296b2",
   "metadata": {},
   "outputs": [],
   "source": [
    "print(a)\n",
    "del a[2] # 删除第三个元素\n",
    "print(a) \n",
    "\n",
    "del a # 删除整个数组\n",
    "print(a) # 错误:没有定义数组"
   ]
  },
  {
   "cell_type": "markdown",
   "id": "195b0e6a",
   "metadata": {},
   "source": [
    "# Numpy数组"
   ]
  },
  {
   "cell_type": "markdown",
   "id": "f1b5bc9e",
   "metadata": {},
   "source": [
    "## 第一步，导入numpy库"
   ]
  },
  {
   "cell_type": "code",
   "execution_count": null,
   "id": "79575d71",
   "metadata": {},
   "outputs": [],
   "source": [
    "import numpy as np"
   ]
  },
  {
   "cell_type": "markdown",
   "id": "b1a79b00",
   "metadata": {},
   "source": [
    "## 创建一维数组并输出"
   ]
  },
  {
   "cell_type": "code",
   "execution_count": null,
   "id": "daba85b7",
   "metadata": {},
   "outputs": [],
   "source": [
    "arr1 = np.array([1, 2, 3, 4]) \n",
    "print(arr1)"
   ]
  },
  {
   "cell_type": "markdown",
   "id": "8aeff2fe",
   "metadata": {},
   "source": [
    "## 创建二维数组并输出"
   ]
  },
  {
   "cell_type": "code",
   "execution_count": null,
   "id": "60a39563",
   "metadata": {},
   "outputs": [],
   "source": [
    "arr2 = np.array([[1, 2, 3, 4],[4, 5, 6, 7], [7, 8, 9, 10]])\n",
    "print( arr2)"
   ]
  },
  {
   "cell_type": "markdown",
   "id": "8e5ad39a",
   "metadata": {},
   "source": [
    "## 查看数组的属性"
   ]
  },
  {
   "cell_type": "code",
   "execution_count": null,
   "id": "3595740d",
   "metadata": {},
   "outputs": [],
   "source": [
    "print('数组维度为：', arr2.shape)  # 查看数组结构\n",
    "print('数组类型为：', arr2.dtype)  # 查看数组类型\n",
    "print('数组元素个数为：', arr2.size)  # 查看数组元素个数\n",
    "print('数组每个元素大小为：', arr2.itemsize)  # 查看数组每个元素大小"
   ]
  },
  {
   "cell_type": "markdown",
   "id": "d1f0dac9",
   "metadata": {},
   "source": [
    "## 重新设置数组的shape（结构）"
   ]
  },
  {
   "cell_type": "code",
   "execution_count": null,
   "id": "05ddb21c",
   "metadata": {},
   "outputs": [],
   "source": [
    "print(arr2)\n",
    "arr2.shape = 4,3  # 重新设置shape\n",
    "print( arr2)"
   ]
  },
  {
   "cell_type": "markdown",
   "id": "65f01aa1",
   "metadata": {},
   "source": [
    "## 创建数组的其他方法"
   ]
  },
  {
   "cell_type": "code",
   "execution_count": null,
   "id": "c2ada970",
   "metadata": {},
   "outputs": [],
   "source": [
    "print('使用arange函数创建的数组为：\\n', np.arange(0,1,0.1))"
   ]
  },
  {
   "cell_type": "code",
   "execution_count": null,
   "id": "61919c53",
   "metadata": {},
   "outputs": [],
   "source": [
    "print('使用linspace函数创建的数组为：\\n', np.linspace(0, 1, 12))"
   ]
  },
  {
   "cell_type": "code",
   "execution_count": null,
   "id": "803f4729",
   "metadata": {},
   "outputs": [],
   "source": [
    "print('使用logspace函数创建的数组为：\\n', np.logspace(0, 2, 20))"
   ]
  },
  {
   "cell_type": "code",
   "execution_count": null,
   "id": "b2e02137",
   "metadata": {},
   "outputs": [],
   "source": [
    "print('使用zeros函数创建的数组为：\\n', np.zeros((2,3)))"
   ]
  },
  {
   "cell_type": "code",
   "execution_count": null,
   "id": "755d37bc",
   "metadata": {},
   "outputs": [],
   "source": [
    "print('使用eye函数创建的数组为：\\n', np.eye(3))"
   ]
  },
  {
   "cell_type": "code",
   "execution_count": null,
   "id": "7097c7fd",
   "metadata": {},
   "outputs": [],
   "source": [
    "print('使用diag函数创建的数组为：\\n', np.diag([1,2,3,4]))"
   ]
  },
  {
   "cell_type": "code",
   "execution_count": null,
   "id": "698bc3cf",
   "metadata": {},
   "outputs": [],
   "source": [
    "print('使用ones函数创建的数组为：\\n', np.ones((5,3)))"
   ]
  },
  {
   "cell_type": "markdown",
   "id": "7f7c4321",
   "metadata": {},
   "source": [
    "## 数组的数据类型转化"
   ]
  },
  {
   "cell_type": "code",
   "execution_count": null,
   "id": "2b1fed27",
   "metadata": {},
   "outputs": [],
   "source": [
    "print('转换结果为：', np.float64(42))  # 整型转换为浮点型"
   ]
  },
  {
   "cell_type": "code",
   "execution_count": null,
   "id": "b218aada",
   "metadata": {},
   "outputs": [],
   "source": [
    "print('转换结果为：', np.int8(42.0))  # 浮点型转换为整型"
   ]
  },
  {
   "cell_type": "code",
   "execution_count": null,
   "id": "a6965535",
   "metadata": {},
   "outputs": [],
   "source": [
    "print('转换结果为：', np.bool(42))  # 整型转换为布尔型"
   ]
  },
  {
   "cell_type": "code",
   "execution_count": null,
   "id": "f8f8daab",
   "metadata": {},
   "outputs": [],
   "source": [
    "print('转换结果为：', np.bool(0))  # 整型转换为布尔型"
   ]
  },
  {
   "cell_type": "code",
   "execution_count": null,
   "id": "60f3e5e2",
   "metadata": {},
   "outputs": [],
   "source": [
    "print('转换结果为：', float(True))  # 布尔型转换为浮点型"
   ]
  },
  {
   "cell_type": "code",
   "execution_count": null,
   "id": "bd2ed71c",
   "metadata": {},
   "outputs": [],
   "source": [
    "print('转换结果为：', float(False))  # 布尔型转换为浮点型"
   ]
  },
  {
   "cell_type": "markdown",
   "id": "906271b4",
   "metadata": {},
   "source": [
    "在numpy 1.20版本之后，numpy.float() 与numpy.bool()被弃用;numpy.float()在后续版本中移除了。它原本是 Python 内置 float 类型的一个别名，但 NumPy 为了简化命名空间、减少混淆，决定将其删除。但在1.24版本之后，开发者将numpy.bool()恢复为别名，所以在1.24版本之后numpy.bool()可以正常使用（目前2.3.3版本依然支持numpy.bool()）\n"
   ]
  },
  {
   "cell_type": "markdown",
   "id": "671afdce",
   "metadata": {},
   "source": [
    "## 自定义数据类型"
   ]
  },
  {
   "cell_type": "code",
   "execution_count": null,
   "id": "bb42ca0a",
   "metadata": {},
   "outputs": [],
   "source": [
    "# 自定义数据类型\n",
    "df = np.dtype([('name', np.str_, 40), ('numitems', np.int64),\n",
    "    ('price',np.float64)])\n",
    "print('数据类型为：\\n', df)"
   ]
  },
  {
   "cell_type": "code",
   "execution_count": null,
   "id": "4e6645f8",
   "metadata": {},
   "outputs": [],
   "source": [
    "# 查看数据类型\n",
    "print('数据类型为：', df['name'])\n",
    "print('数据类型为：', np.dtype(df['name']))"
   ]
  },
  {
   "cell_type": "code",
   "execution_count": null,
   "id": "8683ef3a",
   "metadata": {},
   "outputs": [],
   "source": [
    "# 在数组中使用自定义的数据类型\n",
    "itemz = np.array([('tomatoes', 42, 4.14), ('cabbages', 13, 1.72),('bread',25,3.5)],\n",
    "    dtype=df)\n",
    "print('创建的自定义数组为：', itemz)"
   ]
  },
  {
   "cell_type": "markdown",
   "id": "e36d3039",
   "metadata": {},
   "source": [
    "## 生成随机数"
   ]
  },
  {
   "cell_type": "code",
   "execution_count": null,
   "id": "758046f8",
   "metadata": {},
   "outputs": [],
   "source": [
    "print('生成的随机数组为：\\n', np.random.random(100))"
   ]
  },
  {
   "cell_type": "code",
   "execution_count": null,
   "id": "900d8c69",
   "metadata": {},
   "outputs": [],
   "source": [
    "print('生成的随机数组为：\\n', np.random.rand(10,5))"
   ]
  },
  {
   "cell_type": "code",
   "execution_count": null,
   "id": "a3b240c1",
   "metadata": {},
   "outputs": [],
   "source": [
    "print('生成的随机数组为：\\n', np.random.randn(10,5))"
   ]
  },
  {
   "cell_type": "code",
   "execution_count": null,
   "id": "950ad1d1",
   "metadata": {},
   "outputs": [],
   "source": [
    "print('生成的随机数组为：\\n', np.random.randint(2, 10, size=[2,5]))"
   ]
  },
  {
   "cell_type": "markdown",
   "id": "a8ec618d",
   "metadata": {},
   "source": [
    "## 通过索引访问数组"
   ]
  },
  {
   "cell_type": "markdown",
   "id": "05eaace4",
   "metadata": {},
   "source": [
    "### 访问一维数组"
   ]
  },
  {
   "cell_type": "code",
   "execution_count": null,
   "id": "a5aa2f1e",
   "metadata": {},
   "outputs": [],
   "source": [
    "arr = np.arange(10)\n",
    "print(arr)"
   ]
  },
  {
   "cell_type": "code",
   "execution_count": null,
   "id": "0b5b2ea4",
   "metadata": {},
   "outputs": [],
   "source": [
    "# 用整数作为下标可以获取数组中的某个元素\n",
    "print('索引结果为：', arr[5])"
   ]
  },
  {
   "cell_type": "code",
   "execution_count": null,
   "id": "d9c0b3de",
   "metadata": {},
   "outputs": [],
   "source": [
    "# 用范围作为下标获取数组的一个切片，包括arr[3]不包括arr[5]\n",
    "print('索引结果为：', arr[3:5])"
   ]
  },
  {
   "cell_type": "code",
   "execution_count": null,
   "id": "c26ab1e5",
   "metadata": {},
   "outputs": [],
   "source": [
    "# 省略开始下标，表示从arr[0]开始\n",
    "print('索引结果为：', arr[:5])"
   ]
  },
  {
   "cell_type": "code",
   "execution_count": null,
   "id": "f229b207",
   "metadata": {},
   "outputs": [],
   "source": [
    "# 下标可以使用负数，-1表示从数组后往前数的第一个元素\n",
    "print('索引结果为：', arr[-1])"
   ]
  },
  {
   "cell_type": "code",
   "execution_count": null,
   "id": "2a0da224",
   "metadata": {},
   "outputs": [],
   "source": [
    "# 下标还可以用来修改元素的值\n",
    "print(arr)\n",
    "arr[2:4] = 100,101\n",
    "print('索引结果为：', arr)"
   ]
  },
  {
   "cell_type": "code",
   "execution_count": null,
   "id": "e719bbe4",
   "metadata": {},
   "outputs": [],
   "source": [
    "# 范围中的第三个参数表示步长，2表示隔一个元素取一个元素\n",
    "print('索引结果为：', arr[1:-1:2])"
   ]
  },
  {
   "cell_type": "code",
   "execution_count": null,
   "id": "4253b73f",
   "metadata": {},
   "outputs": [],
   "source": [
    "# 步长为负数时，开始下标必须大于结束下标\n",
    "print('索引结果为：', arr[5:1:-2])  "
   ]
  },
  {
   "cell_type": "markdown",
   "id": "a5f19617",
   "metadata": {},
   "source": [
    "### 访问二维数组"
   ]
  },
  {
   "cell_type": "code",
   "execution_count": null,
   "id": "464c39b8",
   "metadata": {},
   "outputs": [],
   "source": [
    "arr = np.array([[1, 2, 3, 4, 5],[4, 5, 6, 7, 8], [7, 8, 9, 10, 11]])\n",
    "print(arr)"
   ]
  },
  {
   "cell_type": "code",
   "execution_count": null,
   "id": "e10f0c53",
   "metadata": {},
   "outputs": [],
   "source": [
    "# 索引第0行中第3和第4列的元素\n",
    "print('索引结果为：', arr[0,3:5])"
   ]
  },
  {
   "cell_type": "code",
   "execution_count": null,
   "id": "d11b2add",
   "metadata": {},
   "outputs": [],
   "source": [
    "# 索引第2和第3行中第3列、第4列和第5列的元素\n",
    "print('索引结果为：\\n', arr[1:,2:])"
   ]
  },
  {
   "cell_type": "code",
   "execution_count": null,
   "id": "99734dc7",
   "metadata": {},
   "outputs": [],
   "source": [
    "# 索引第2列的元素\n",
    "print('索引结果为：', arr[:,2])"
   ]
  },
  {
   "cell_type": "code",
   "execution_count": null,
   "id": "989a54be",
   "metadata": {},
   "outputs": [],
   "source": [
    "# 从两个序列的对应位置取出两个整数组成下标：arr[0,1], arr[1,2], arr[2,3]\n",
    "# print('索引结果为：', arr[[(0, 1, 2), (1, 2, 3)]])\n",
    "print('索引结果为：', arr[[0, 1, 2], [1, 2, 3]])"
   ]
  },
  {
   "cell_type": "code",
   "execution_count": null,
   "id": "3d47c71f",
   "metadata": {},
   "outputs": [],
   "source": [
    "# 索引第2、3行中第0、2、3列的元素\n",
    "print('索引结果为：', arr[1:, (0, 2, 3)])  "
   ]
  },
  {
   "cell_type": "code",
   "execution_count": null,
   "id": "a7f22553",
   "metadata": {},
   "outputs": [],
   "source": [
    "mask = np.array([1, 0, 1], dtype = np.bool)\n",
    "# mask是一个布尔数组，它索引第1、3行中第2列的元素\n",
    "print(mask)\n",
    "print('索引结果为：', arr[mask, 2])\n"
   ]
  },
  {
   "cell_type": "markdown",
   "id": "387a8b62",
   "metadata": {},
   "source": [
    "## 变换数组的形状"
   ]
  },
  {
   "cell_type": "code",
   "execution_count": null,
   "id": "a0dda492",
   "metadata": {},
   "outputs": [],
   "source": [
    "arr = np.arange(12)\n",
    "print(arr)"
   ]
  },
  {
   "cell_type": "code",
   "execution_count": null,
   "id": "4d601c4d",
   "metadata": {},
   "outputs": [],
   "source": [
    "arr = arr.reshape(3, 4)# 设置数组的形状\n",
    "print(arr)\n",
    "print(arr.ndim)"
   ]
  },
  {
   "cell_type": "code",
   "execution_count": null,
   "id": "b2be72f2",
   "metadata": {},
   "outputs": [],
   "source": [
    "arr = np.arange(12).reshape(3, 4)\n",
    "print(arr)\n",
    "arr = arr.ravel()\n",
    "print(arr)"
   ]
  },
  {
   "cell_type": "code",
   "execution_count": null,
   "id": "bf9bf499",
   "metadata": {},
   "outputs": [],
   "source": [
    "arr = np.arange(12).reshape(3, 4)\n",
    "print(arr)\n",
    "print(arr.flatten())    # 横向展平\n",
    "print(arr.flatten('F')) # 纵向展平\n"
   ]
  },
  {
   "cell_type": "code",
   "execution_count": null,
   "id": "89a526cb",
   "metadata": {},
   "outputs": [],
   "source": [
    "arr1 = np.arange(12).reshape(3, 4)\n",
    "print(arr1)\n",
    "\n",
    "arr2 = arr1*3\n",
    "print(arr2)\n"
   ]
  },
  {
   "cell_type": "code",
   "execution_count": null,
   "id": "9d02ad75",
   "metadata": {},
   "outputs": [],
   "source": [
    "print(np.hstack((arr1, arr2)))  # hstack函数横向组合"
   ]
  },
  {
   "cell_type": "code",
   "execution_count": null,
   "id": "05cf1e4d",
   "metadata": {},
   "outputs": [],
   "source": [
    "print('纵向组合为：\\n', np.vstack((arr1, arr2)))  # vstack函数纵向组合"
   ]
  },
  {
   "cell_type": "code",
   "execution_count": null,
   "id": "ebf9a491",
   "metadata": {},
   "outputs": [],
   "source": [
    "# axis的值决定是横向组合数组还是纵向组合数组\n",
    "print(np.concatenate((arr1, arr2), axis=1))  # concatenate函数横向组合\n",
    "print(np.concatenate((arr1, arr2), axis=0))  # concatenate函数纵向组合"
   ]
  },
  {
   "cell_type": "code",
   "execution_count": null,
   "id": "20d194ed",
   "metadata": {},
   "outputs": [],
   "source": [
    "arr = np.arange(16).reshape(4, 4)\n",
    "print(arr)"
   ]
  },
  {
   "cell_type": "code",
   "execution_count": null,
   "id": "fbebbd32",
   "metadata": {},
   "outputs": [],
   "source": [
    "print(np.hsplit(arr, 2))    # hsplit函数横向分割"
   ]
  },
  {
   "cell_type": "code",
   "execution_count": null,
   "id": "aab9a5b9",
   "metadata": {},
   "outputs": [],
   "source": [
    "print( np.vsplit(arr, 2))  # vsplit函数纵向分割"
   ]
  },
  {
   "cell_type": "code",
   "execution_count": null,
   "id": "61ed83ba",
   "metadata": {},
   "outputs": [],
   "source": [
    "# axis的值决定是横向组合数组还是纵向组合数组\n",
    "print(np.split(arr, 2, axis=1))  # split函数横向分割\n",
    "print(np.split(arr, 2, axis=0))  # split函数纵向分割"
   ]
  }
 ],
 "metadata": {
  "kernelspec": {
   "display_name": "3.12.5",
   "language": "python",
   "name": "python3"
  },
  "language_info": {
   "codemirror_mode": {
    "name": "ipython",
    "version": 3
   },
   "file_extension": ".py",
   "mimetype": "text/x-python",
   "name": "python",
   "nbconvert_exporter": "python",
   "pygments_lexer": "ipython3",
   "version": "3.12.5"
  }
 },
 "nbformat": 4,
 "nbformat_minor": 5
}
