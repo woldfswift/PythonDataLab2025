{
 "cells": [
  {
   "cell_type": "markdown",
   "id": "e3f89125",
   "metadata": {},
   "source": [
    "# Numpy矩阵与通用函数"
   ]
  },
  {
   "cell_type": "markdown",
   "id": "876fc9fb",
   "metadata": {
    "vscode": {
     "languageId": "plaintext"
    }
   },
   "source": [
    "## 导入Numpy库"
   ]
  },
  {
   "cell_type": "code",
   "execution_count": null,
   "id": "979a2712",
   "metadata": {},
   "outputs": [],
   "source": [
    "import numpy as np\n",
    "# numpy version 2.3.3"
   ]
  },
  {
   "cell_type": "markdown",
   "id": "2e0dc5b7",
   "metadata": {},
   "source": [
    "## 创建矩阵"
   ]
  },
  {
   "cell_type": "markdown",
   "id": "869fbf1b",
   "metadata": {},
   "source": [
    "### 使用mat函数创建矩阵\n",
    "（np.mat()函数在2.0版本被取消，用np.asmatrix()代替）"
   ]
  },
  {
   "cell_type": "code",
   "execution_count": null,
   "id": "a7f76458",
   "metadata": {},
   "outputs": [],
   "source": [
    "matr1 = np.asmatrix('1 2 3;4 5 6;7 8 9')\n",
    "print(matr1)\n",
    "# np.mat` was removed in the NumPy 2.0 release. Use `np.asmatrix` instead."
   ]
  },
  {
   "cell_type": "markdown",
   "id": "b8546db7",
   "metadata": {},
   "source": [
    "### 使用matrix()函数创建矩阵"
   ]
  },
  {
   "cell_type": "code",
   "execution_count": null,
   "id": "e778bf86",
   "metadata": {},
   "outputs": [],
   "source": [
    "matr2 = np.matrix([[1,2,3],[4,5,6],[7,8,9]])\n",
    "print(matr2)"
   ]
  },
  {
   "cell_type": "markdown",
   "id": "dafc2756",
   "metadata": {},
   "source": [
    "### 使用bmat函数创建矩阵"
   ]
  },
  {
   "cell_type": "code",
   "execution_count": null,
   "id": "74fefb93",
   "metadata": {},
   "outputs": [],
   "source": [
    "arr1 = np.eye(3)\n",
    "print(arr1)"
   ]
  },
  {
   "cell_type": "code",
   "execution_count": null,
   "id": "7ee4ed25",
   "metadata": {},
   "outputs": [],
   "source": [
    "arr2 = 3 * arr1\n",
    "print(arr2)"
   ]
  },
  {
   "cell_type": "code",
   "execution_count": null,
   "id": "48189d0c",
   "metadata": {},
   "outputs": [],
   "source": [
    "matr3 = np.bmat('arr1 arr2;arr1 arr2')\n",
    "print(matr3)"
   ]
  },
  {
   "cell_type": "markdown",
   "id": "ab86f339",
   "metadata": {},
   "source": [
    "## 矩阵运算"
   ]
  },
  {
   "cell_type": "code",
   "execution_count": null,
   "id": "7f80ed1e",
   "metadata": {},
   "outputs": [],
   "source": [
    "matr1 = np.asmatrix('1 2 3;4 5 6;7 8 9')\n",
    "print(matr1)"
   ]
  },
  {
   "cell_type": "code",
   "execution_count": null,
   "id": "cb978333",
   "metadata": {},
   "outputs": [],
   "source": [
    "matr2 = matr1 * 3\n",
    "print(matr2)"
   ]
  },
  {
   "cell_type": "code",
   "execution_count": null,
   "id": "7b8bccf9",
   "metadata": {},
   "outputs": [],
   "source": [
    "print( matr1 + matr2)  # 矩阵相加"
   ]
  },
  {
   "cell_type": "code",
   "execution_count": null,
   "id": "91e45d47",
   "metadata": {},
   "outputs": [],
   "source": [
    "print( matr1 - matr2)  # 矩阵相减"
   ]
  },
  {
   "cell_type": "code",
   "execution_count": null,
   "id": "87b5124d",
   "metadata": {},
   "outputs": [],
   "source": [
    "print( matr1 * matr2)  # 矩阵相乘"
   ]
  },
  {
   "cell_type": "code",
   "execution_count": null,
   "id": "4a8ebcc3",
   "metadata": {},
   "outputs": [],
   "source": [
    "print(np.multiply(matr1, matr2))  #矩阵元素相乘"
   ]
  },
  {
   "cell_type": "markdown",
   "id": "91b3db84",
   "metadata": {},
   "source": [
    "## 查看矩阵的属性"
   ]
  },
  {
   "cell_type": "markdown",
   "id": "ee0fb0f3",
   "metadata": {},
   "source": [
    "|属性名称|属性说明|\n",
    "|--------|---------|\n",
    "|T|返回自身的转置矩阵|\n",
    "|H|返回自身的共轭转置矩阵|\n",
    "|I|返回自身的逆矩阵|\n",
    "|A|返回自身数据的二维数组|"
   ]
  },
  {
   "cell_type": "code",
   "execution_count": null,
   "id": "1721d9ee",
   "metadata": {},
   "outputs": [],
   "source": [
    "matr3 = np.mat([[6, 2, 1], [1, 5, 2], [3, 4, 8]])\n",
    "print(matr3)"
   ]
  },
  {
   "cell_type": "code",
   "execution_count": null,
   "id": "ca2c7148",
   "metadata": {},
   "outputs": [],
   "source": [
    "print(matr3.T)  # 转置"
   ]
  },
  {
   "cell_type": "code",
   "execution_count": null,
   "id": "0f0df823",
   "metadata": {},
   "outputs": [],
   "source": [
    "print(matr3.I)  #逆矩阵"
   ]
  },
  {
   "cell_type": "code",
   "execution_count": null,
   "id": "8ddd1eaf",
   "metadata": {},
   "outputs": [],
   "source": [
    "print(matr3.A)  #矩阵的二维数组"
   ]
  },
  {
   "cell_type": "markdown",
   "id": "52548222",
   "metadata": {},
   "source": [
    "## 掌握ufunc函数"
   ]
  },
  {
   "cell_type": "markdown",
   "id": "f505cd52",
   "metadata": {},
   "source": [
    "ufunc 是 universal function的缩写，意思是“通用函数”，它是一种能对数组的每个元素进行操作的函数。"
   ]
  },
  {
   "cell_type": "markdown",
   "id": "88697fb7",
   "metadata": {},
   "source": [
    "### 数组的四则运算"
   ]
  },
  {
   "cell_type": "code",
   "execution_count": null,
   "id": "13049a4f",
   "metadata": {},
   "outputs": [],
   "source": [
    "x = np.array([1, 2, 3])\n",
    "y = np.array([4, 5, 6])\n",
    "print(x)\n",
    "print(y)"
   ]
  },
  {
   "cell_type": "code",
   "execution_count": null,
   "id": "3e75540c",
   "metadata": {},
   "outputs": [],
   "source": [
    "print(x + y)  # 数组相加"
   ]
  },
  {
   "cell_type": "code",
   "execution_count": null,
   "id": "5eca9d37",
   "metadata": {},
   "outputs": [],
   "source": [
    "print(x - y)  # 数组相减"
   ]
  },
  {
   "cell_type": "code",
   "execution_count": null,
   "id": "ed288855",
   "metadata": {},
   "outputs": [],
   "source": [
    "print(x * y)  # 数组相乘"
   ]
  },
  {
   "cell_type": "code",
   "execution_count": null,
   "id": "814db83f",
   "metadata": {},
   "outputs": [],
   "source": [
    "print(x / y)  # 数组相除"
   ]
  },
  {
   "cell_type": "code",
   "execution_count": null,
   "id": "0361ef19",
   "metadata": {},
   "outputs": [],
   "source": [
    "print(x ** y)  # 数组幂运算"
   ]
  },
  {
   "cell_type": "markdown",
   "id": "bda89182",
   "metadata": {},
   "source": [
    "### 数组的比较运算"
   ]
  },
  {
   "cell_type": "code",
   "execution_count": null,
   "id": "f8022eea",
   "metadata": {},
   "outputs": [],
   "source": [
    "x = np.array([1, 3, 5])\n",
    "y = np.array([2, 3, 4])\n",
    "print(x)\n",
    "print(y)"
   ]
  },
  {
   "cell_type": "code",
   "execution_count": null,
   "id": "9ec87a34",
   "metadata": {},
   "outputs": [],
   "source": [
    "print(x < y)"
   ]
  },
  {
   "cell_type": "code",
   "execution_count": null,
   "id": "c5bb4441",
   "metadata": {},
   "outputs": [],
   "source": [
    "print(x > y)"
   ]
  },
  {
   "cell_type": "code",
   "execution_count": null,
   "id": "c0678e49",
   "metadata": {},
   "outputs": [],
   "source": [
    "print(x == y)"
   ]
  },
  {
   "cell_type": "code",
   "execution_count": null,
   "id": "70753b1b",
   "metadata": {},
   "outputs": [],
   "source": [
    "print(x >= y)"
   ]
  },
  {
   "cell_type": "code",
   "execution_count": null,
   "id": "61fc47ea",
   "metadata": {},
   "outputs": [],
   "source": [
    "print(x <= y)"
   ]
  },
  {
   "cell_type": "code",
   "execution_count": null,
   "id": "c2d76d55",
   "metadata": {},
   "outputs": [],
   "source": [
    "print(x != y)"
   ]
  },
  {
   "cell_type": "markdown",
   "id": "7a5fbd4b",
   "metadata": {},
   "source": [
    "### 数组的逻辑运算"
   ]
  },
  {
   "cell_type": "code",
   "execution_count": null,
   "id": "b32e6935",
   "metadata": {},
   "outputs": [],
   "source": [
    "x = np.array([1, 3, 5])\n",
    "y = np.array([2, 3, 4])\n",
    "print(x)\n",
    "print(y)"
   ]
  },
  {
   "cell_type": "code",
   "execution_count": null,
   "id": "aad134f5",
   "metadata": {},
   "outputs": [],
   "source": [
    "print(np.all(x == y))"
   ]
  },
  {
   "cell_type": "code",
   "execution_count": null,
   "id": "af5982c2",
   "metadata": {},
   "outputs": [],
   "source": [
    "print(np.any(x == y))"
   ]
  },
  {
   "cell_type": "markdown",
   "id": "0a96a62c",
   "metadata": {},
   "source": [
    "### ufunc函数的广播机制"
   ]
  },
  {
   "cell_type": "code",
   "execution_count": null,
   "id": "b8b37e14",
   "metadata": {},
   "outputs": [],
   "source": [
    "arr1 = np.array([[0, 0, 0], [1, 1, 1], [2, 2, 2], [3, 3, 3]])\n",
    "print(arr1)\n",
    "print(arr1.shape) "
   ]
  },
  {
   "cell_type": "code",
   "execution_count": null,
   "id": "add09fd2",
   "metadata": {},
   "outputs": [],
   "source": [
    "arr2 = np.array([1,2,3])\n",
    "print(arr2)\n",
    "print(arr2.shape)"
   ]
  },
  {
   "cell_type": "code",
   "execution_count": null,
   "id": "c8c5396a",
   "metadata": {},
   "outputs": [],
   "source": [
    "print(arr1 + arr2)  #数组相加"
   ]
  },
  {
   "cell_type": "markdown",
   "id": "a07ceece",
   "metadata": {},
   "source": [
    "(4,3)       \n",
    "|0|0|0|\n",
    "|--|--|--|\n",
    "|1|1|1|\n",
    "|2|2|2|\n",
    "|3|3|3|\n",
    "\n",
    "\\+\n",
    "\n",
    "(3,)\n",
    "|1|2|3|\n",
    "|--|--|--|\n",
    "|1|2|3|\n",
    "|1|2|3|\n",
    "|1|2|3|\n",
    "\n",
    "↓\n",
    "\n",
    "(4,3)\n",
    "|1|2|3|\n",
    "|--|--|--|\n",
    "|2|3|4|\n",
    "|3|4|5|\n",
    "|4|5|6|"
   ]
  },
  {
   "cell_type": "code",
   "execution_count": null,
   "id": "22708e26",
   "metadata": {},
   "outputs": [],
   "source": [
    "arr1 = np.array([[0, 0, 0], [1, 1, 1], [2, 2, 2], [3, 3, 3]])\n",
    "print(arr1)\n",
    "print(arr1.shape)"
   ]
  },
  {
   "cell_type": "code",
   "execution_count": null,
   "id": "bf602c96",
   "metadata": {},
   "outputs": [],
   "source": [
    "arr2 = np.array([1, 2, 3, 4]).reshape((4, 1))\n",
    "print(arr2)\n",
    "print(arr2.shape)"
   ]
  },
  {
   "cell_type": "code",
   "execution_count": null,
   "id": "896edbca",
   "metadata": {},
   "outputs": [],
   "source": [
    "print(arr1 + arr2)  #数组相加"
   ]
  },
  {
   "cell_type": "markdown",
   "id": "b8d83a39",
   "metadata": {},
   "source": [
    "(4,3)       \n",
    "|0|0|0|\n",
    "|--|--|--|\n",
    "|1|1|1|\n",
    "|2|2|2|\n",
    "|3|3|3|\n",
    "\n",
    "\\+\n",
    "\n",
    "(4,1)\n",
    "|1|1|1|\n",
    "|--|--|--|\n",
    "|2|2|2|\n",
    "|3|3|3|\n",
    "|4|4|4|\n",
    "\n",
    "↓\n",
    "\n",
    "(4,3)\n",
    "|1|1|1|\n",
    "|--|--|--|\n",
    "|3|3|3|\n",
    "|5|5|5|\n",
    "|7|7|7|"
   ]
  }
 ],
 "metadata": {
  "kernelspec": {
   "display_name": "3.12.5",
   "language": "python",
   "name": "python3"
  },
  "language_info": {
   "codemirror_mode": {
    "name": "ipython",
    "version": 3
   },
   "file_extension": ".py",
   "mimetype": "text/x-python",
   "name": "python",
   "nbconvert_exporter": "python",
   "pygments_lexer": "ipython3",
   "version": "3.12.5"
  }
 },
 "nbformat": 4,
 "nbformat_minor": 5
}
