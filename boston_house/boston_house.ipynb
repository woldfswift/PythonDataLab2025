{
 "cells": [
  {
   "cell_type": "markdown",
   "id": "7e2c0bfc",
   "metadata": {},
   "source": [
    "# 波士顿房价预测"
   ]
  },
  {
   "cell_type": "markdown",
   "id": "07b611f9",
   "metadata": {},
   "source": [
    "## 导入所需库"
   ]
  },
  {
   "cell_type": "code",
   "execution_count": null,
   "id": "c2eb2a48",
   "metadata": {},
   "outputs": [],
   "source": [
    "import numpy as np \n",
    "import pandas as pd \n",
    "import hvplot.pandas\n",
    "import matplotlib.pyplot as plt\n",
    "%matplotlib inline\n",
    "# 使输出的图像以更高清的方式显示\n",
    "%config InlineBackend.figure_format = 'retina'\n",
    "\n",
    "#强制使用 matplotlib 默认字体\n",
    "plt.rcParams['font.family'] = 'DejaVu Sans'\n",
    "plt.rcParams['axes.unicode_minus'] = False  # 避免负号乱码\n",
    "\n",
    "\n",
    "import seaborn as sns\n",
    "# plt.style.use('ggplot') \n",
    "plt.style.use(\"fivethirtyeight\")\n",
    "# Pandas中只显示3位小数\n",
    "pd.set_option('display.float_format', lambda x: '{:.3f}'.format(x)) \n",
    "\n",
    "from sklearn import datasets  # 导入数据集\n",
    "from sklearn.model_selection import train_test_split\n",
    "from sklearn.metrics import mean_squared_error\n",
    "\n",
    "import warnings"
   ]
  },
  {
   "cell_type": "markdown",
   "id": "6a59db17",
   "metadata": {},
   "source": [
    "## 导入数据集"
   ]
  },
  {
   "cell_type": "code",
   "execution_count": null,
   "id": "6b979519",
   "metadata": {},
   "outputs": [],
   "source": [
    "boston = datasets.load_boston()\n",
    "X = boston.data   # 特征值\n",
    "y = boston.target  # 目标变量\n",
    "\n",
    "df = pd.DataFrame(\n",
    "    X,\n",
    "    columns = boston.feature_names\n",
    ")\n",
    "#ImportError: `load_boston` has been removed from scikit-learn since version 1.2.\n",
    "#原因是该数据集包含有争议的变量设计，涉及种族隔离与房价之间的假设，不符合现代伦理标准。\n"
   ]
  },
  {
   "cell_type": "markdown",
   "id": "01d16a67",
   "metadata": {},
   "source": [
    "导入数据集"
   ]
  },
  {
   "cell_type": "code",
   "execution_count": null,
   "id": "9d0c508b",
   "metadata": {},
   "outputs": [],
   "source": [
    "df = pd.read_csv('house_data.csv')\n",
    "\n",
    "# 特征值（去掉目标列 'MEDV'）\n",
    "X = df.drop(columns='MEDV')\n",
    "\n",
    "# 目标变量\n",
    "y = df['MEDV']\n",
    "\n",
    "\n"
   ]
  },
  {
   "cell_type": "code",
   "execution_count": null,
   "id": "dcd43a20",
   "metadata": {},
   "outputs": [],
   "source": [
    "df.head()"
   ]
  },
  {
   "cell_type": "markdown",
   "id": "9091edde",
   "metadata": {},
   "source": [
    "## 数据预处理"
   ]
  },
  {
   "cell_type": "markdown",
   "id": "8b228053",
   "metadata": {},
   "source": [
    "查看数据集字段、数据类型"
   ]
  },
  {
   "cell_type": "code",
   "execution_count": null,
   "id": "729f7126",
   "metadata": {},
   "outputs": [],
   "source": [
    "df.columns"
   ]
  },
  {
   "cell_type": "code",
   "execution_count": null,
   "id": "5d367515",
   "metadata": {},
   "outputs": [],
   "source": [
    "df.dtypes"
   ]
  },
  {
   "cell_type": "code",
   "execution_count": null,
   "id": "4fd7191e",
   "metadata": {},
   "outputs": [],
   "source": [
    "df.info()"
   ]
  },
  {
   "cell_type": "markdown",
   "id": "4d35fc82",
   "metadata": {},
   "source": [
    "- CRIM：城镇人均犯罪率\n",
    "- ZN： 占地面积超过2.5万平方英尺的住宅用地比例\n",
    "- INDUS：城镇上非零售业务地区的 比例\n",
    "- CHAS：虚拟变量；如果土地在查尔斯河，取值1；否则为0\n",
    "- NOX：一氧化氮浓度\n",
    "- RM：平均每个居民房数\n",
    "- AGE：在1940年之前建成的所有者占用单位的比例\n",
    "- DIS： 与波士顿的5个就业中心之间的加权距离\n",
    "- RAD： 辐距离住房最近的公路入口编号\n",
    "- TAX：每10,000美元的全额物业税\n",
    "- PTRATIO：城镇师生比例大小\n",
    "- B：1000(Bk-0.63)^2,其中 Bk 指代城镇中黑人的比例\n",
    "- LSTAT：全部人口中地位较低人群的百分数大小\n",
    "- MEDV：目标变量，以1000美元来进行计算的自由住房的中位数大小"
   ]
  },
  {
   "cell_type": "markdown",
   "id": "2c25afba",
   "metadata": {},
   "source": [
    "数据形状和缺失值"
   ]
  },
  {
   "cell_type": "code",
   "execution_count": null,
   "id": "27476a48",
   "metadata": {},
   "outputs": [],
   "source": [
    "df.shape"
   ]
  },
  {
   "cell_type": "code",
   "execution_count": null,
   "id": "582750e0",
   "metadata": {},
   "outputs": [],
   "source": [
    "df.isnull().sum()"
   ]
  },
  {
   "cell_type": "markdown",
   "id": "9f4cb26a",
   "metadata": {},
   "source": [
    "统计信息"
   ]
  },
  {
   "cell_type": "code",
   "execution_count": null,
   "id": "c6dbbe23",
   "metadata": {},
   "outputs": [],
   "source": [
    "df.describe()"
   ]
  },
  {
   "cell_type": "markdown",
   "id": "ec80838b",
   "metadata": {},
   "source": [
    "相关性检验"
   ]
  },
  {
   "cell_type": "code",
   "execution_count": null,
   "id": "79239f2a",
   "metadata": {},
   "outputs": [],
   "source": [
    "#计算相关性系数\n",
    "corr = df.corr()"
   ]
  },
  {
   "cell_type": "code",
   "execution_count": null,
   "id": "959df59a",
   "metadata": {},
   "outputs": [],
   "source": [
    "plt.figure(figsize=(16,10))\n",
    "\n",
    "sns.heatmap(\n",
    "    corr,\n",
    "    annot=True,\n",
    "    fmt=\".2f\",\n",
    "    #cmap=\"YlGn\"\n",
    ")\n",
    "plt.show()"
   ]
  },
  {
   "cell_type": "code",
   "execution_count": null,
   "id": "89a9ab2c",
   "metadata": {},
   "outputs": [],
   "source": [
    "#查看每个特征和目标变量MEDV之间的相关系数\n",
    "corr[\"MEDV\"].sort_values()"
   ]
  },
  {
   "cell_type": "markdown",
   "id": "4423b789",
   "metadata": {},
   "source": [
    "多变量研究"
   ]
  },
  {
   "cell_type": "code",
   "execution_count": null,
   "id": "1b74d188",
   "metadata": {},
   "outputs": [],
   "source": [
    "#研究不同自变量之间、自变量和因变量之间的关系\n",
    "sns.pairplot(df[[\"LSTAT\",\"INDUS\",\"PTRATIO\",\"MEDV\"]]) # 绝对值靠前3的特征\n",
    "plt.show()"
   ]
  },
  {
   "cell_type": "markdown",
   "id": "638132ba",
   "metadata": {},
   "source": [
    "数据集划分"
   ]
  },
  {
   "cell_type": "code",
   "execution_count": null,
   "id": "17337b22",
   "metadata": {},
   "outputs": [],
   "source": [
    "#划分给定的数据集，比例是8：2\n",
    "X = df.drop(\"MEDV\",axis=1)\n",
    "y = df[[\"MEDV\"]]\n",
    "\n",
    "X_train, X_test, y_train, y_test = train_test_split(\n",
    "    X, y, \n",
    "    test_size=0.2, \n",
    "    random_state=123)"
   ]
  },
  {
   "cell_type": "markdown",
   "id": "9ae7b682",
   "metadata": {},
   "source": [
    "## 数据分析"
   ]
  },
  {
   "cell_type": "markdown",
   "id": "51bd7abb",
   "metadata": {},
   "source": [
    "### 线性回归模型"
   ]
  },
  {
   "cell_type": "markdown",
   "id": "02eef9d4",
   "metadata": {},
   "source": [
    "建模"
   ]
  },
  {
   "cell_type": "code",
   "execution_count": null,
   "id": "8f5c6bb7",
   "metadata": {},
   "outputs": [],
   "source": [
    "from sklearn.linear_model import LinearRegression\n",
    "# 模型实例化\n",
    "le = LinearRegression()\n",
    "# 拟合过程\n",
    "le.fit(X_train, y_train)\n",
    "# 得到回归系数\n",
    "coef1 = le.coef_  # 13个回归系数"
   ]
  },
  {
   "cell_type": "code",
   "execution_count": null,
   "id": "f605e699",
   "metadata": {},
   "outputs": [],
   "source": [
    "coef1"
   ]
  },
  {
   "cell_type": "markdown",
   "id": "ff4f50a4",
   "metadata": {},
   "source": [
    "预测"
   ]
  },
  {
   "cell_type": "code",
   "execution_count": null,
   "id": "3caf4a09",
   "metadata": {},
   "outputs": [],
   "source": [
    "predict1 = le.predict(X_test) "
   ]
  },
  {
   "cell_type": "code",
   "execution_count": null,
   "id": "f7c0ace4",
   "metadata": {},
   "outputs": [],
   "source": [
    "predict1[:5]"
   ]
  },
  {
   "cell_type": "markdown",
   "id": "cdacbb78",
   "metadata": {},
   "source": [
    "指标得分\n",
    "主要是考察两个指标的得分：\n",
    "\n",
    "- 在测试集上的得分score\n",
    "- 测试数据和预测数据之间的RMSE得分"
   ]
  },
  {
   "cell_type": "code",
   "execution_count": null,
   "id": "ead18ab1",
   "metadata": {},
   "outputs": [],
   "source": [
    "print(\"Score：\", le.score(X_test, y_test))\n",
    "print(\"RSME：\", np.sqrt(mean_squared_error(y_test, predict1)))"
   ]
  },
  {
   "cell_type": "code",
   "execution_count": null,
   "id": "dd504c0d",
   "metadata": {},
   "outputs": [],
   "source": [
    "le_df = pd.DataFrame()\n",
    "\n",
    "le_df[\"name\"] = X.columns.tolist()\n",
    "le_df[\"coef\"] = coef1.reshape(-1,1)"
   ]
  },
  {
   "cell_type": "code",
   "execution_count": null,
   "id": "8c0d7f99",
   "metadata": {},
   "outputs": [],
   "source": [
    "le_df"
   ]
  },
  {
   "cell_type": "code",
   "execution_count": null,
   "id": "61349fd7",
   "metadata": {},
   "outputs": [],
   "source": [
    "#真实值和预测值的对比\n",
    "test_pre = pd.DataFrame({\"test\": y_test[\"MEDV\"].tolist(),\n",
    "                        \"pre\": predict1.flatten()\n",
    "                        })"
   ]
  },
  {
   "cell_type": "code",
   "execution_count": null,
   "id": "ab84def2",
   "metadata": {},
   "outputs": [],
   "source": [
    "test_pre"
   ]
  },
  {
   "cell_type": "code",
   "execution_count": null,
   "id": "0d4f09ae",
   "metadata": {},
   "outputs": [],
   "source": [
    "test_pre.plot(figsize=(18,10))\n",
    "plt.show()"
   ]
  },
  {
   "cell_type": "code",
   "execution_count": null,
   "id": "efd42e00",
   "metadata": {},
   "outputs": [],
   "source": [
    "#对真实值和预测值对比\n",
    "len(test_pre.query(\"test > pre\"))/len(test_pre)"
   ]
  },
  {
   "cell_type": "markdown",
   "id": "819f43d3",
   "metadata": {},
   "source": [
    "结论1\n",
    "通过上面的结果我们发现：\n",
    "\n",
    "- 超过半数的预测值是比真实值要大的，预测的房价偏高\n",
    "- 波士顿房价的数据比较干净，预处理和特征工程部分的工作相对会少一些，上面的建模过程几乎没有涉及到太多特征工程的工作"
   ]
  },
  {
   "cell_type": "markdown",
   "id": "d6d159f3",
   "metadata": {},
   "source": [
    "模型评价\n",
    "\n",
    "1.测试集上评价:\n",
    "\n",
    "将真实值和预测值的散点分布图画在坐标轴上"
   ]
  },
  {
   "cell_type": "code",
   "execution_count": null,
   "id": "1657f5ce",
   "metadata": {},
   "outputs": [],
   "source": [
    "plt.scatter(y_test, predict1, label=\"test\")\n",
    "plt.plot([y_test.min(), y_test.max()],\n",
    "        [y_test.min(), y_test.max()],\n",
    "        'k--',\n",
    "        lw=3,\n",
    "        label=\"predict\"\n",
    "        )\n",
    "\n",
    "\n",
    "plt.show()"
   ]
  },
  {
   "cell_type": "markdown",
   "id": "153711a8",
   "metadata": {},
   "source": [
    "从上图中看到：\n",
    "\n",
    "- 在10-30之间的房价预测的更为准确些\n",
    "- 当超过30后，预测的结果会偏小；上面的统计结果页表明，预测值会大于真实值"
   ]
  },
  {
   "cell_type": "markdown",
   "id": "230ca515",
   "metadata": {},
   "source": [
    "整体数据集评价\n",
    "\n",
    "我们对整个数据集X上进行建模："
   ]
  },
  {
   "cell_type": "code",
   "execution_count": null,
   "id": "14927ea6",
   "metadata": {},
   "outputs": [],
   "source": [
    "predict_all = le.predict(X)\n",
    "\n",
    "print(\"Score：\", le.score(X, y))  # 统一换成整体数据集\n",
    "print(\"RSME：\", np.sqrt(mean_squared_error(y, predict_all)))"
   ]
  },
  {
   "cell_type": "code",
   "execution_count": null,
   "id": "f43d959a",
   "metadata": {},
   "outputs": [],
   "source": [
    "#比较整体数据集上的真实值和预测值：\n",
    "all_pre = pd.DataFrame({\"test\": y[\"MEDV\"].tolist(),\n",
    "                        \"pre\": predict_all.flatten()\n",
    "                        })"
   ]
  },
  {
   "cell_type": "code",
   "execution_count": null,
   "id": "249d8855",
   "metadata": {},
   "outputs": [],
   "source": [
    "all_pre"
   ]
  },
  {
   "cell_type": "code",
   "execution_count": null,
   "id": "669974a5",
   "metadata": {},
   "outputs": [],
   "source": [
    "all_pre.plot(figsize=(18,10))\n",
    "plt.show()"
   ]
  },
  {
   "cell_type": "code",
   "execution_count": null,
   "id": "a7b9d2f3",
   "metadata": {},
   "outputs": [],
   "source": [
    "plt.scatter(y, predict_all, label=\"y_all\")\n",
    "plt.plot([y.min(), y.max()],\n",
    "        [y.min(), y.max()],\n",
    "        'k--',\n",
    "        lw=3,\n",
    "        label=\"all_predict\"\n",
    "        )\n",
    "\n",
    "\n",
    "plt.show()"
   ]
  },
  {
   "cell_type": "markdown",
   "id": "2be298c1",
   "metadata": {},
   "source": [
    "## 模型改进（使用其他算法）"
   ]
  },
  {
   "cell_type": "markdown",
   "id": "084c135d",
   "metadata": {},
   "source": [
    "数据标准化\n",
    "\n",
    "为什么要标准化？\n",
    "\n",
    "在原始数据中，不同特征的取值范围可能差异很大\n",
    "\n",
    "如果不做标准化，某些取值大的特征可能会在模型中占主导地位，影响训练效果，尤其是对距离敏感的模型（如 KNN、SVM、线性回归）。\n"
   ]
  },
  {
   "cell_type": "code",
   "execution_count": null,
   "id": "808bce2f",
   "metadata": {},
   "outputs": [],
   "source": [
    "from sklearn.preprocessing import StandardScaler\n",
    "# 实例化\n",
    "ss = StandardScaler()\n",
    "# 特征数据\n",
    "X = ss.fit_transform(X)\n",
    "# 目标变量\n",
    "y = ss.fit_transform(y)\n",
    "# 先切分数据集\n",
    "X_train, X_test, y_train, y_test = train_test_split(X, y, test_size=0.2, random_state=9)"
   ]
  },
  {
   "cell_type": "markdown",
   "id": "228bb5b9",
   "metadata": {},
   "source": [
    "### 决策树回归"
   ]
  },
  {
   "cell_type": "code",
   "execution_count": null,
   "id": "71d97176",
   "metadata": {},
   "outputs": [],
   "source": [
    "from sklearn.tree import DecisionTreeRegressor\n",
    "\n",
    "tr = DecisionTreeRegressor(max_depth=2) \n",
    "\n",
    "tr.fit(X_train, y_train) \n",
    "# 预测值 \n",
    "tr_pre = tr.predict(X_test)"
   ]
  },
  {
   "cell_type": "code",
   "execution_count": null,
   "id": "44c4d6c2",
   "metadata": {},
   "outputs": [],
   "source": [
    "# 模型评分 \n",
    "print('Score:{:.4f}'.format(tr.score(X_test, y_test)))\n",
    "# RMSE(标准误差)\n",
    "print('RMSE:{:.4f}'.format(np.sqrt(mean_squared_error(y_test,tr_pre))))"
   ]
  },
  {
   "cell_type": "code",
   "execution_count": null,
   "id": "09540843",
   "metadata": {},
   "outputs": [],
   "source": [
    "plt.scatter(y_test, tr_pre, label=\"test\")\n",
    "plt.plot([y_test.min(), y_test.max()],\n",
    "        [y_test.min(), y_test.max()],\n",
    "        'k--',\n",
    "        lw=3,\n",
    "        label=\"predict\"\n",
    "        )\n",
    "\n",
    "\n",
    "plt.show()"
   ]
  },
  {
   "cell_type": "markdown",
   "id": "b713be1f",
   "metadata": {},
   "source": [
    "### GradientBoosting（梯度提升）"
   ]
  },
  {
   "cell_type": "code",
   "execution_count": null,
   "id": "f717bfbd",
   "metadata": {},
   "outputs": [],
   "source": [
    "from sklearn import ensemble\n",
    "\n",
    "gb = ensemble.GradientBoostingRegressor()\n",
    "\n",
    "y_train_arr = np.ravel(y_train)\n",
    "\n",
    "\n",
    "gb.fit(X_train, y_train_arr)\n",
    "gb_pre=gb.predict(X_test) "
   ]
  },
  {
   "cell_type": "code",
   "execution_count": null,
   "id": "1971d088",
   "metadata": {},
   "outputs": [],
   "source": [
    "# 模型评分 \n",
    "print('Score:{:.4f}'.format(gb.score(X_test, y_test)))\n",
    "# RMSE(标准误差)\n",
    "print('RMSE:{:.4f}'.format(np.sqrt(mean_squared_error(y_test,gb_pre))))"
   ]
  },
  {
   "cell_type": "code",
   "execution_count": null,
   "id": "6fcbd567",
   "metadata": {},
   "outputs": [],
   "source": [
    "plt.scatter(y_test, gb_pre, label=\"test\")\n",
    "plt.plot([y_test.min(), y_test.max()],\n",
    "        [y_test.min(), y_test.max()],\n",
    "        'k--',\n",
    "        lw=3,\n",
    "        label=\"predict\"\n",
    "        )\n",
    "\n",
    "plt.show()"
   ]
  },
  {
   "cell_type": "markdown",
   "id": "889b6a67",
   "metadata": {},
   "source": [
    "### Lasso回归\n",
    "\n",
    "Lasso的全称是：Least Absolute Shrinkage and Selection Operator\n",
    "\n",
    "Lasso也是惩罚其回归系数的绝对值；另外一种方式岭回归，使用的是平方形式"
   ]
  },
  {
   "cell_type": "code",
   "execution_count": null,
   "id": "ff14eb90",
   "metadata": {},
   "outputs": [],
   "source": [
    "from sklearn.linear_model import Lasso\n",
    "\n",
    "lo = Lasso()\n",
    "\n",
    "lo.fit(X_train, y_train)\n",
    "lo_pre=lo.predict(X_test) "
   ]
  },
  {
   "cell_type": "code",
   "execution_count": null,
   "id": "a170ceee",
   "metadata": {},
   "outputs": [],
   "source": [
    "# 模型评分 \n",
    "print('Score:{:.4f}'.format(lo.score(X_test, y_test)))\n",
    "# RMSE(标准误差)\n",
    "print('RMSE:{:.4f}'.format(np.sqrt(mean_squared_error(y_test,lo_pre))))"
   ]
  },
  {
   "cell_type": "code",
   "execution_count": null,
   "id": "180741d9",
   "metadata": {},
   "outputs": [],
   "source": [
    "plt.scatter(y_test, lo_pre, label=\"test\")\n",
    "plt.plot([y_test.min(), y_test.max()],\n",
    "        [y_test.min(), y_test.max()],\n",
    "        'k--',\n",
    "        lw=3,\n",
    "        label=\"predict\"\n",
    "        )\n",
    "\n",
    "plt.show()"
   ]
  },
  {
   "cell_type": "markdown",
   "id": "8a319c18",
   "metadata": {},
   "source": [
    "### SVR-支持向量回归"
   ]
  },
  {
   "cell_type": "code",
   "execution_count": null,
   "id": "e7cd1a44",
   "metadata": {},
   "outputs": [],
   "source": [
    "from sklearn.svm import SVR\n",
    "\n",
    "linear_svr = SVR(kernel=\"linear\")\n",
    "linear_svr.fit(X_train, y_train_arr)\n",
    "linear_svr_pre = linear_svr.predict(X_test)"
   ]
  },
  {
   "cell_type": "code",
   "execution_count": null,
   "id": "dfbc4005",
   "metadata": {},
   "outputs": [],
   "source": [
    "# 模型评分 \n",
    "print('Score:{:.4f}'.format(linear_svr.score(X_test, y_test)))\n",
    "# RMSE(标准误差)\n",
    "print('RMSE:{:.4f}'.format(np.sqrt(mean_squared_error(y_test,linear_svr_pre))))"
   ]
  },
  {
   "cell_type": "code",
   "execution_count": null,
   "id": "307a8d10",
   "metadata": {},
   "outputs": [],
   "source": [
    "plt.scatter(y_test, linear_svr_pre, label=\"test\")\n",
    "plt.plot([y_test.min(), y_test.max()],\n",
    "        [y_test.min(), y_test.max()],\n",
    "        'k--',\n",
    "        lw=3,\n",
    "        label=\"predict\"\n",
    "        )\n",
    "\n",
    "plt.show()"
   ]
  }
 ],
 "metadata": {
  "kernelspec": {
   "display_name": "3.12.5",
   "language": "python",
   "name": "python3"
  },
  "language_info": {
   "codemirror_mode": {
    "name": "ipython",
    "version": 3
   },
   "file_extension": ".py",
   "mimetype": "text/x-python",
   "name": "python",
   "nbconvert_exporter": "python",
   "pygments_lexer": "ipython3",
   "version": "3.12.5"
  }
 },
 "nbformat": 4,
 "nbformat_minor": 5
}
