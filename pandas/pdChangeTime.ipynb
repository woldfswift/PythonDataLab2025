{
 "cells": [
  {
   "cell_type": "markdown",
   "id": "e52f920e",
   "metadata": {},
   "source": [
    "# 转换与处理时间序列数据"
   ]
  },
  {
   "cell_type": "code",
   "execution_count": null,
   "id": "4195b564",
   "metadata": {},
   "outputs": [],
   "source": [
    "import pandas as pd"
   ]
  },
  {
   "cell_type": "markdown",
   "id": "7ab1130e",
   "metadata": {
    "vscode": {
     "languageId": "plaintext"
    }
   },
   "source": [
    "对数据进行转换的目的，是为了让数据更适合分析、建模或可视化。不同的转换方式可以揭示隐藏的模式、提高模型性能，或解决数据质量问题。\n",
    "pandas库继承了Numpy库的datetime库与时间相关模块，提供了六种时间相关的类：\n",
    "\n",
    "|类名称|说明|\n",
    "|--|--|\n",
    "|Timestamp|表示单个时间点，类似于 Python 的 datetime.datetime。用于表示某一具体时间。|\n",
    "|Period|表示一个时间段（如某月、某季度），而不是具体时间点。|\n",
    "|Timedelta|表示两个时间点之间的时间差，可用于时间加减运算。|\n",
    "|DatetimeIndex|时间戳的索引集合，常用于时间序列的索引。支持切片、重采样等操作。|\n",
    "|PeriodtimeIndex|Period 的集合，适用于周期性数据的索引。|\n",
    "|TimedeltaIndex|Timedelta 的集合，常用于表示时间间隔序列|\n"
   ]
  },
  {
   "cell_type": "markdown",
   "id": "d116e081",
   "metadata": {
    "vscode": {
     "languageId": "plaintext"
    }
   },
   "source": [
    "## 转换时间字符串为标准时间"
   ]
  },
  {
   "cell_type": "markdown",
   "id": "31e4d738",
   "metadata": {},
   "source": [
    "### 转换时间字符串为标准时间"
   ]
  },
  {
   "cell_type": "markdown",
   "id": "952c20ed",
   "metadata": {},
   "source": [
    "使用to_datetime函数将与时间相关的字符串转换为Timestamp形式\n",
    "\n",
    "```\n",
    "pd.to_datetime(\"2025-10-15\")\n",
    "# 输出: Timestamp('2025-10-15 00:00:00')\n",
    "```\n",
    "\n",
    "常用参数说明\n",
    "| 参数 |说明  | \n",
    "|--|--|\n",
    "| arg | 要转换的对象（字符串、列表、Series、DataFrame） | \n",
    "| format | 指定日期格式（如 \"%Y-%m-%d\"），可加速解析| \n",
    "| errors |'raise'（默认）遇错报错，'coerce' 转为 NaT，'ignore' 原样返回 | \n",
    "| dayfirst,yearfirst |接受bool；是否将日期中的“日”视为第一位（如英式格式 15/10/2025） | \n",
    "| utc | 是否将结果转换为 UTC 时间 | \n"
   ]
  },
  {
   "cell_type": "code",
   "execution_count": null,
   "id": "54914e9a",
   "metadata": {},
   "outputs": [],
   "source": [
    "musicdata = pd.read_table('pd_data/musicdata.csv', sep=',', encoding='gbk')"
   ]
  },
  {
   "cell_type": "code",
   "execution_count": null,
   "id": "f7493d35",
   "metadata": {},
   "outputs": [],
   "source": [
    "musicdata"
   ]
  },
  {
   "cell_type": "code",
   "execution_count": null,
   "id": "00edd8bb",
   "metadata": {},
   "outputs": [],
   "source": [
    "print(musicdata['date'].dtypes)"
   ]
  },
  {
   "cell_type": "code",
   "execution_count": null,
   "id": "7af5cbc7",
   "metadata": {},
   "outputs": [],
   "source": [
    "print(musicdata['date'])"
   ]
  },
  {
   "cell_type": "code",
   "execution_count": null,
   "id": "45739f74",
   "metadata": {},
   "outputs": [],
   "source": [
    "musicdata['dateChange'] = pd.to_datetime(musicdata['date'])"
   ]
  },
  {
   "cell_type": "code",
   "execution_count": null,
   "id": "8b1bd86c",
   "metadata": {},
   "outputs": [],
   "source": [
    "print(musicdata['dateChange'].dtypes)"
   ]
  },
  {
   "cell_type": "code",
   "execution_count": null,
   "id": "82d809fa",
   "metadata": {},
   "outputs": [],
   "source": [
    "print(musicdata['dateChange'])"
   ]
  },
  {
   "cell_type": "markdown",
   "id": "6c4ac18b",
   "metadata": {},
   "source": [
    "### Timestamp的最小时间与最大时间"
   ]
  },
  {
   "cell_type": "code",
   "execution_count": null,
   "id": "e6d87df1",
   "metadata": {},
   "outputs": [],
   "source": [
    "print('最小时间为：', pd.Timestamp.min)  # 查询计算机中最早的时间信息\n",
    "print('最大时间为：', pd.Timestamp.max)  # 查询计算机中最晚的时间信息"
   ]
  },
  {
   "cell_type": "code",
   "execution_count": null,
   "id": "b174ab4b",
   "metadata": {},
   "outputs": [],
   "source": [
    "musicdata['dateChange'].min()"
   ]
  },
  {
   "cell_type": "code",
   "execution_count": null,
   "id": "cce7cfd7",
   "metadata": {},
   "outputs": [],
   "source": [
    "musicdata['dateChange'].max()"
   ]
  },
  {
   "cell_type": "code",
   "execution_count": null,
   "id": "452289ee",
   "metadata": {},
   "outputs": [],
   "source": [
    "musicdata"
   ]
  },
  {
   "cell_type": "markdown",
   "id": "55139c0a",
   "metadata": {},
   "source": [
    "### 转换时间字符串为DatetimeIndex与PeriodIndex"
   ]
  },
  {
   "cell_type": "markdown",
   "id": "fb16570b",
   "metadata": {},
   "source": [
    "DatetimeIndex：精确时间点序列\n",
    "- 定义：由多个 Timestamp 构成的索引，表示具体的时间点（如某年某月某日某时某分某秒）。\n",
    "- 适用场景：适合处理高频数据，如每秒、每分钟、每天的传感器数据、股票交易数据等。\n",
    "- 特点：\n",
    "    - 支持时间切片、重采样、滚动窗口等操作。\n",
    "    - 可以进行时间运算，如加减 Timedelta。\n",
    "    - 精度高，支持纳秒级别。\n",
    "\n",
    "\n",
    "```\n",
    "dt_index = pd.date_range(start='2025-01-01', periods=5, freq='D')\n",
    "```"
   ]
  },
  {
   "cell_type": "markdown",
   "id": "f2c4aa0f",
   "metadata": {},
   "source": [
    "PeriodIndex：固定周期时间段序列\n",
    "- 定义：由多个 Period 构成的索引，表示某个时间段（如某月、某季度、某年）。\n",
    "- 适用场景：适合处理周期性数据，如月度销售额、季度财报、年度统计数据等。\n",
    "- 特点：\n",
    "    - 表示的是时间段而非具体时间点。\n",
    "    - 支持周期运算，如周期偏移、频率转换。\n",
    "    - 更适合做周期聚合和趋势分析。\n",
    "\n",
    "```\n",
    "period_index = pd.period_range(start='2025-01', periods=5, freq='M')\n",
    "```"
   ]
  },
  {
   "cell_type": "markdown",
   "id": "49159b19",
   "metadata": {},
   "source": [
    "如何选择？\n",
    "| 数据类型 | 推荐索引类型 | \n",
    "|-|-|\n",
    "| 每日或更高频率数据 |  DatetimeIndex| \n",
    "|月度、季度数据  | PeriodIndex | \n",
    "| 需要精确时间点 | DatetimeIndex | \n",
    "| 关注时间段统计 |  PeriodIndex| \n",
    "\n",
    "\n",
    "\n",
    "\n"
   ]
  },
  {
   "cell_type": "code",
   "execution_count": null,
   "id": "cdfdaaf6",
   "metadata": {},
   "outputs": [],
   "source": [
    "dateIndex = pd.DatetimeIndex(musicdata['date'])"
   ]
  },
  {
   "cell_type": "code",
   "execution_count": null,
   "id": "72b5e552",
   "metadata": {},
   "outputs": [],
   "source": [
    "type(dateIndex)"
   ]
  },
  {
   "cell_type": "code",
   "execution_count": null,
   "id": "cfbe7735",
   "metadata": {},
   "outputs": [],
   "source": [
    "periodIndex = pd.PeriodIndex(musicdata['date'], freq='S')"
   ]
  },
  {
   "cell_type": "markdown",
   "id": "0cd53b40",
   "metadata": {},
   "source": [
    "/tmp/ipykernel_25158/2358369031.py:1: FutureWarning: 'S' is deprecated and will be removed in a future version, please use 's' instead.\n",
    "  periodIndex = pd.PeriodIndex(musicdata['date'], freq='S')\n",
    "\n",
    "时指定的频率 'S'（大写）已经被标记为“即将废弃”，建议改用小写的 's'。"
   ]
  },
  {
   "cell_type": "code",
   "execution_count": null,
   "id": "d92b6a82",
   "metadata": {},
   "outputs": [],
   "source": [
    "type(periodIndex)"
   ]
  },
  {
   "cell_type": "markdown",
   "id": "58db1ed4",
   "metadata": {},
   "source": [
    "## 提取时间序列数据信息"
   ]
  },
  {
   "cell_type": "markdown",
   "id": "5ca46ae6",
   "metadata": {},
   "source": [
    "Timestamp 是 Pandas 中用于表示单个时间点的核心类，它是 datetime.datetime 的增强版本，拥有更多功能和属性。下面是它的常用属性和方法，适用于时间序列分析、时间切片、时间运算等场景。\n",
    "\n",
    "Timestamp 类的常用属性\n",
    "|属性名  |  说明与示例|\n",
    "|-|-| \n",
    "| year | 年份，如 2025 | \n",
    "| month | 月份（1–12） | \n",
    "| day |日期（1–31） | \n",
    "| hour |  小时（0–23）| \n",
    "| minute | 分钟（0–59） | \n",
    "| second | 秒（0–59） | \n",
    "| microsecond | 微秒（0–999999） | \n",
    "| nanosecond | 纳秒（0–999999999） | \n",
    "| dayofweek | 星期几（周一为 0，周日为 6） | \n",
    "| dayofyear | 一年中的第几天（1–366） | \n",
    "| weekweekofyear | 一年中的第几周（已弃用，建议用 isocalendar().week） | \n",
    "| quarter | 季度（1–4） | \n",
    "| is_month_end | 是否为月末（True/False） | \n",
    "| is_month_start | 是否为月初 | \n",
    "| is_year_end | 是否为年末 | \n",
    "| is_year_start | 是否为年初 | \n",
    "|is_leap_year| 是否为闰年 |\n",
    "| tz | 时区信息 | \n",
    "| freq | 时间频率（如果有） | \n",
    "| to_pydatetime() | 转换为原生 datetime.datetime 对象\n"
   ]
  },
  {
   "cell_type": "code",
   "execution_count": null,
   "id": "a7893e56",
   "metadata": {},
   "outputs": [],
   "source": [
    "ts = pd.Timestamp('2025-10-15 10:30:45.123456789')\n",
    "\n",
    "print(ts.year)          \n",
    "print(ts.month)          \n",
    "print(ts.dayofweek)      \n",
    "print(ts.is_month_end)   \n",
    "print(ts.to_pydatetime())\n"
   ]
  },
  {
   "cell_type": "markdown",
   "id": "5866a4dd",
   "metadata": {},
   "source": [
    "tmp/ipykernel_25158/2305970870.py:7: UserWarning: Discarding nonzero nanoseconds in conversion.\n",
    "  print(ts.to_pydatetime())\n",
    "\n",
    "这个警告信息说明你在使用 Timestamp.to_pydatetime() 方法时，该时间戳包含纳秒级信息（nanoseconds），但 Python 的原生 datetime.datetime 类型只支持到微秒（microseconds）级别，因此 Pandas 会自动舍弃纳秒部分。\n"
   ]
  },
  {
   "cell_type": "markdown",
   "id": "24bb6dea",
   "metadata": {},
   "source": [
    "### 提取数据中的年、月、日"
   ]
  },
  {
   "cell_type": "code",
   "execution_count": null,
   "id": "4b6f0fbd",
   "metadata": {},
   "outputs": [],
   "source": [
    "year1 = [i.year for i in musicdata['dateChange']]\n",
    "month1 = [i.month for i in musicdata['dateChange']]\n",
    "day1 = [i.day for i in musicdata['dateChange']]"
   ]
  },
  {
   "cell_type": "code",
   "execution_count": null,
   "id": "d2b2f3f0",
   "metadata": {},
   "outputs": [],
   "source": [
    "year1[:5]"
   ]
  },
  {
   "cell_type": "code",
   "execution_count": null,
   "id": "b621ecc1",
   "metadata": {},
   "outputs": [],
   "source": [
    "month1[:5]"
   ]
  },
  {
   "cell_type": "code",
   "execution_count": null,
   "id": "95b7aa04",
   "metadata": {},
   "outputs": [],
   "source": [
    "day1[:5]"
   ]
  },
  {
   "cell_type": "markdown",
   "id": "e0d684ca",
   "metadata": {},
   "source": [
    "### 提取DatetimeIndex与PeriodIndex中的数据"
   ]
  },
  {
   "cell_type": "code",
   "execution_count": null,
   "id": "43ac2a21",
   "metadata": {},
   "outputs": [],
   "source": [
    "dateIndex.weekday[:5]  "
   ]
  },
  {
   "cell_type": "code",
   "execution_count": null,
   "id": "c705e229",
   "metadata": {},
   "outputs": [],
   "source": [
    "periodIndex.weekday[:5]"
   ]
  },
  {
   "cell_type": "markdown",
   "id": "b1d5a7b6",
   "metadata": {},
   "source": [
    "## 加减时间数据"
   ]
  },
  {
   "cell_type": "markdown",
   "id": "ac8ab596",
   "metadata": {},
   "source": [
    "Pandas 的Timedelta类是专门用来表示两个时间点之间的时间差，它是时间序列分析中非常重要的工具，尤其适用于时间运算、偏移、间隔计算等场景。"
   ]
  },
  {
   "cell_type": "markdown",
   "id": "d84a726f",
   "metadata": {},
   "source": [
    " 什么是 Timedelta？\n",
    "- Timedelta 表示一个时间间隔，比如“5天”、“2小时30分钟”。\n",
    "- 它是 Pandas 对 Python 原生 datetime.timedelta 的扩展，支持更高精度（纳秒级）和更丰富的操作。"
   ]
  },
  {
   "cell_type": "markdown",
   "id": "5bae06a5",
   "metadata": {},
   "source": [
    "常用属性\n",
    "|属性名  | 说明 | \n",
    "|-|-|\n",
    "| .days | 间隔的天数 | \n",
    "| .seconds | 间隔的秒数（不含天） | \n",
    "| .microseconds | 微秒数 | \n",
    "| .components | 返回一个结构体，包含天、小时、分钟、秒、毫秒等 | \n",
    "| .total_seconds() | 返回总秒数（浮点数） | \n"
   ]
  },
  {
   "cell_type": "markdown",
   "id": "7a62dfd5",
   "metadata": {},
   "source": [
    "### 实现时间数据的加运算"
   ]
  },
  {
   "cell_type": "code",
   "execution_count": null,
   "id": "cf8b8f7f",
   "metadata": {},
   "outputs": [],
   "source": [
    "time1 = musicdata['dateChange'] + pd.Timedelta(days=1) "
   ]
  },
  {
   "cell_type": "code",
   "execution_count": null,
   "id": "2ee8f1fe",
   "metadata": {},
   "outputs": [],
   "source": [
    "musicdata['dateChange'][:5]"
   ]
  },
  {
   "cell_type": "code",
   "execution_count": null,
   "id": "97c4c13b",
   "metadata": {},
   "outputs": [],
   "source": [
    "time1[:5]"
   ]
  },
  {
   "cell_type": "markdown",
   "id": "c8a82f62",
   "metadata": {},
   "source": [
    "### 实现时间数据的减运算"
   ]
  },
  {
   "cell_type": "code",
   "execution_count": null,
   "id": "cc138764",
   "metadata": {},
   "outputs": [],
   "source": [
    "timeDelta = musicdata['dateChange'] - pd.to_datetime('2020-1-1')"
   ]
  },
  {
   "cell_type": "code",
   "execution_count": null,
   "id": "cd6c95c6",
   "metadata": {},
   "outputs": [],
   "source": [
    "timeDelta[:5]\n"
   ]
  },
  {
   "cell_type": "code",
   "execution_count": null,
   "id": "67ae15ad",
   "metadata": {},
   "outputs": [],
   "source": [
    "timeDelta.dtypes"
   ]
  },
  {
   "cell_type": "markdown",
   "id": "f5372e5f",
   "metadata": {},
   "source": [
    "dtype('<m8[ns]') 是 NumPy 和 Pandas 中用于表示时间差（时间间隔）数据的一种数据类型，它对应的是：\n",
    "timedelta64[ns] 类型\n",
    "- m8 是 timedelta64 的别名（m 表示“时间间隔”，即 duration）。\n",
    "- [ns] 表示单位是纳秒（nanoseconds）。\n",
    "- 所以 dtype('<m8[ns]') 表示：一个以纳秒为单位的时间间隔数据类型。\n"
   ]
  }
 ],
 "metadata": {
  "kernelspec": {
   "display_name": "3.12.5",
   "language": "python",
   "name": "python3"
  },
  "language_info": {
   "codemirror_mode": {
    "name": "ipython",
    "version": 3
   },
   "file_extension": ".py",
   "mimetype": "text/x-python",
   "name": "python",
   "nbconvert_exporter": "python",
   "pygments_lexer": "ipython3",
   "version": "3.12.5"
  }
 },
 "nbformat": 4,
 "nbformat_minor": 5
}
