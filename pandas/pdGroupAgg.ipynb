{
 "cells": [
  {
   "cell_type": "markdown",
   "id": "e73b06b1",
   "metadata": {},
   "source": [
    "# 使用分组聚合进行组内计算"
   ]
  },
  {
   "cell_type": "markdown",
   "id": "eaa88a83",
   "metadata": {},
   "source": [
    "什么是分组聚合？\n",
    "\n",
    "分组聚合（Group Aggregation） 是一种常见的数据分析操作，用来：\n",
    "- 按某个字段进行分组（比如按“部门”或“城市”）\n",
    "- 对每组数据进行统计计算（比如求平均值、总和、最大值等）\n"
   ]
  },
  {
   "cell_type": "code",
   "execution_count": null,
   "id": "7bf077ea",
   "metadata": {},
   "outputs": [],
   "source": [
    "import pandas as pd"
   ]
  },
  {
   "cell_type": "code",
   "execution_count": null,
   "id": "4d8b0473",
   "metadata": {},
   "outputs": [],
   "source": [
    "# 设置每列最大宽度（比如 100）\n",
    "pd.set_option('display.max_colwidth', 100)\n",
    "\n",
    "# 设置显示的最大列数（比如 20）\n",
    "pd.set_option('display.max_columns', 20)\n",
    "\n",
    "# 设置显示宽度（比如 1000）\n",
    "pd.set_option('display.width', 1000)\n"
   ]
  },
  {
   "cell_type": "code",
   "execution_count": null,
   "id": "1655de60",
   "metadata": {},
   "outputs": [],
   "source": [
    "musicdata = pd.read_table('pd_data/musicdata.csv', sep=',', encoding='gbk')"
   ]
  },
  {
   "cell_type": "markdown",
   "id": "b5d20cab",
   "metadata": {},
   "source": [
    "## 使用groupby()方法拆分数据"
   ]
  },
  {
   "cell_type": "markdown",
   "id": "01c3aeee",
   "metadata": {},
   "source": [
    "pandas 的 groupby() 方法是数据分析中非常强大且常用的工具，用于对数据进行分组，然后对每组应用聚合（aggregation）、转换（transformation）或过滤（filtering）等操作\n"
   ]
  },
  {
   "cell_type": "markdown",
   "id": "5fb40fca",
   "metadata": {},
   "source": [
    "```\n",
    "DataFrame.groupby(\n",
    "    by=None,\n",
    "    axis=0,\n",
    "    level=None,\n",
    "    as_index=True,\n",
    "    sort=True,\n",
    "    group_keys=True,\n",
    "    observed=False,\n",
    "    dropna=True\n",
    ")\n",
    "```"
   ]
  },
  {
   "cell_type": "markdown",
   "id": "55b626f4",
   "metadata": {},
   "source": [
    "### groupby方法的常用参数及说明"
   ]
  },
  {
   "cell_type": "markdown",
   "id": "92a14c20",
   "metadata": {},
   "source": [
    "参数说明\n",
    "| 参数名 | 类型 | 说明 | \n",
    "|-|-|-|\n",
    "| by | str, list, dict, Series, function | 指定用于分组的键，可以是列名、多个列名组成的列表、字典、Series 或函数。最常用的就是列名或列名列表。 | \n",
    "| axis | {0 or 'index', 1 or 'columns'} |指定分组的方向，默认是按行（axis=0），也可以按列分组。| \n",
    "| level | int or label | 如果是多层索引（MultiIndex），可以指定按哪一层分组。 | \n",
    "| as_index | bool | 默认 True，表示分组键作为结果的索引。如果设为 False，分组键会变成普通列。 | \n",
    "| sort | bool | 是否对分组键排序，默认 True。设为 False 可以提高性能。 | \n",
    "| group_keys | bool | 是否在结果中包含分组键，默认 True。 | \n",
    "| observed | bool | 用于分类变量分组时，是否只显示实际出现的组合（而不是所有可能组合）。默认 False。 | \n",
    "| dropna | bool | 是否在分组时排除缺失值（NaN），默认 True。设为 False 会保留 NaN 分组。 | \n",
    "\n",
    "\n",
    "\n",
    "\n"
   ]
  },
  {
   "cell_type": "code",
   "execution_count": null,
   "id": "013dcf22",
   "metadata": {},
   "outputs": [],
   "source": [
    "# musicdataGroup = musicdata[['format', 'metric', 'value_actual']].groupby(by='format')\n",
    "musicdataGroup = musicdata[['format', 'value_actual']].groupby(by='format')"
   ]
  },
  {
   "cell_type": "code",
   "execution_count": null,
   "id": "e3f77aa0",
   "metadata": {},
   "outputs": [],
   "source": [
    "musicdataGroup"
   ]
  },
  {
   "cell_type": "markdown",
   "id": "9014803d",
   "metadata": {},
   "source": [
    "- 分组后的结果不能直接查看，而是被存在内存中，输出的是内存地址。\n",
    "- groupby() 返回的是一个 GroupBy 对象，你需要用聚合函数来“触发”计算。 \n",
    "- 分组后的数据对象（DataFrameGroupBy），类似于Serier于DataFrame，是pandas提供的一种对象"
   ]
  },
  {
   "cell_type": "markdown",
   "id": "843a7b9c",
   "metadata": {},
   "source": [
    "### groupby常用描述性统计方法及说明"
   ]
  },
  {
   "cell_type": "markdown",
   "id": "0d93dda1",
   "metadata": {},
   "source": [
    "常用描述性统计方法及说明\n",
    "| 方法名 | 作用说明 | 示例代码 | \n",
    "|-|-|-|\n",
    "| count() | 每组非空值的数量 | df.groupby('部门')['工资'].count() | \n",
    "|size()|每组的行数（即每组的大小）|df.groupby('部门')['工资'].size()|\n",
    "| sum() | 每组的总和 | df.groupby('部门')['工资'].sum() | \n",
    "| mean() | 每组的平均值| df.groupby('部门')['工资'].mean() | \n",
    "| median() | 每组的中位数 | df.groupby('部门')['工资'].median() | \n",
    "| min() | 每组的最小值 | df.groupby('部门')['工资'].min() | \n",
    "| max() | 每组的最大值 | df.groupby('部门')['工资'].max() | \n",
    "| std() | 每组的标准差（衡量波动性） | df.groupby('部门')['工资'].std() | \n",
    "| var() | 每组的方差 | df.groupby('部门')['工资'].var() | \n",
    "| describe() | 一次性输出多个统计指标（如均值、标准差、最小值、最大值等） | df.groupby('部门')['工资'].describe() | \n",
    "\n",
    "\n",
    "\n",
    "\n",
    "\n"
   ]
  },
  {
   "cell_type": "code",
   "execution_count": null,
   "id": "8f1fd603",
   "metadata": {},
   "outputs": [],
   "source": [
    "musicdataGroup.mean()"
   ]
  },
  {
   "cell_type": "code",
   "execution_count": null,
   "id": "dbabfa50",
   "metadata": {},
   "outputs": [],
   "source": [
    "musicdataGroup.std()"
   ]
  },
  {
   "cell_type": "code",
   "execution_count": null,
   "id": "24048d24",
   "metadata": {},
   "outputs": [],
   "source": [
    "musicdataGroup.size()"
   ]
  },
  {
   "cell_type": "markdown",
   "id": "64c9a4b5",
   "metadata": {},
   "source": [
    "## 使用agg()方法聚合数据"
   ]
  },
  {
   "cell_type": "markdown",
   "id": "dee0396b",
   "metadata": {},
   "source": [
    "在 pandas 中，.agg() 和 .aggregate() 是完全等价的方法，用于对分组或整个 DataFrame/Series 执行多个聚合操作。\n"
   ]
  },
  {
   "cell_type": "markdown",
   "id": "3dc9f10f",
   "metadata": {},
   "source": [
    ".agg() 和 .aggregate() 是什么？\n",
    "- 它们是 同义方法，功能完全一样。\n",
    "- 用于对数据执行一个或多个聚合函数（如 mean, sum, max, min 等）。\n",
    "- 可以用于：\n",
    "- DataFrame\n",
    "- Series\n",
    "- groupby 对象\n"
   ]
  },
  {
   "cell_type": "markdown",
   "id": "04e3d8e4",
   "metadata": {},
   "source": [
    "### agg方法的常用参数及说明"
   ]
  },
  {
   "cell_type": "markdown",
   "id": "64dbb877",
   "metadata": {},
   "source": [
    "基本语法\n",
    "```\n",
    "df.agg(func)\n",
    "df.aggregate(func)\n",
    "```\n",
    "- func 可以是字符串、函数、函数列表，或字典（用于多列多函数组合）\n"
   ]
  },
  {
   "cell_type": "markdown",
   "id": "fabc2efa",
   "metadata": {},
   "source": [
    "常用参数及说明\n",
    "```\n",
    "DataFrame.agg(func, axis=0, *args, **kwargs)\n",
    "```\n",
    "\n",
    "| 参数名 | 类型 | 说明 | \n",
    "|-|-|-|\n",
    "| func | str、function、list、dict | 指定要执行的聚合函数，可以是单个函数、多个函数列表，或列与函数的映射字典 | \n",
    "| axis | {0 or 'index', 1 or 'columns'} | 指定聚合的方向，默认是 axis=0（按列聚合）；设为 axis=1 时按行聚合 | \n",
    "| *args | 可选参数 | 传递给聚合函数的额外参数 | \n",
    "| **kwargs | 可选参数 | 传递给聚合函数的命名参数 | \n"
   ]
  },
  {
   "cell_type": "markdown",
   "id": "b7d9c304",
   "metadata": {},
   "source": [
    "### 使用agg方法聚合数据"
   ]
  },
  {
   "cell_type": "code",
   "execution_count": null,
   "id": "5740c150",
   "metadata": {},
   "outputs": [],
   "source": [
    "import numpy as np"
   ]
  },
  {
   "cell_type": "markdown",
   "id": "dc7040f8",
   "metadata": {},
   "source": [
    "求number_of_records与value_actual的总和与平均值"
   ]
  },
  {
   "cell_type": "code",
   "execution_count": null,
   "id": "a99067e4",
   "metadata": {},
   "outputs": [],
   "source": [
    "musicdata[['number_of_records', 'value_actual']].agg([np.sum, np.mean])"
   ]
  },
  {
   "cell_type": "markdown",
   "id": "542e07cb",
   "metadata": {},
   "source": [
    "出现FutureWarning\n",
    "- 使用了 np.sum 和 np.mean 作为 .agg() 的参数。\n",
    "- pandas 当前会自动将这些 NumPy 函数映射到其内部的 Series.sum() 和 Series.mean() 方法。\n",
    "- 未来版本中，pandas 会直接使用传入的函数本身（即 np.sum），这可能导致行为不同。\n",
    "- 为了保持当前行为，建议改用字符串形式的函数名，如 \"sum\" 和 \"mean\"。\n",
    "\n"
   ]
  },
  {
   "cell_type": "markdown",
   "id": "5c0c8b82",
   "metadata": {},
   "source": [
    "对number_of_records求和，并对value_actual求平均值"
   ]
  },
  {
   "cell_type": "code",
   "execution_count": null,
   "id": "5ca6e88b",
   "metadata": {},
   "outputs": [],
   "source": [
    "musicdata.agg({'number_of_records': np.sum, 'value_actual': np.mean})"
   ]
  },
  {
   "cell_type": "code",
   "execution_count": null,
   "id": "a7befb06",
   "metadata": {},
   "outputs": [],
   "source": [
    "musicdata.agg({'number_of_records': np.sum, 'value_actual': [np.mean, np.sum]})"
   ]
  },
  {
   "cell_type": "markdown",
   "id": "e5705924",
   "metadata": {},
   "source": [
    "### 在agg方法中使用自定义函数"
   ]
  },
  {
   "cell_type": "code",
   "execution_count": null,
   "id": "1575f82a",
   "metadata": {},
   "outputs": [],
   "source": [
    "def DoubleSum(data):\n",
    "    s = data.sum() * 2\n",
    "    return s"
   ]
  },
  {
   "cell_type": "code",
   "execution_count": null,
   "id": "1d7fa8b6",
   "metadata": {},
   "outputs": [],
   "source": [
    "musicdata.agg({'value_actual': DoubleSum})"
   ]
  },
  {
   "cell_type": "markdown",
   "id": "46d9100c",
   "metadata": {},
   "source": [
    "### 在agg方法中使用自定义函数含np中的函数"
   ]
  },
  {
   "cell_type": "markdown",
   "id": "4076428b",
   "metadata": {},
   "source": [
    "np库中的函数能够在agg方法中直接使用，但是在自定义函数中使用np库的函数时，如果计算的时候使用单个序列，则无法得出想要的结果；但是使用多列数据重新计算则不会出现问题"
   ]
  },
  {
   "cell_type": "code",
   "execution_count": null,
   "id": "9ad59a2b",
   "metadata": {},
   "outputs": [],
   "source": [
    "def DoubleSum1(data):\n",
    "    s = np.sum(data) * 2\n",
    "    return s"
   ]
  },
  {
   "cell_type": "code",
   "execution_count": null,
   "id": "58650258",
   "metadata": {},
   "outputs": [],
   "source": [
    "musicdata.agg({'value_actual': DoubleSum1})"
   ]
  },
  {
   "cell_type": "code",
   "execution_count": null,
   "id": "f0c76013",
   "metadata": {},
   "outputs": [],
   "source": [
    "musicdata[['number_of_records', 'value_actual']].agg(DoubleSum1)"
   ]
  },
  {
   "cell_type": "code",
   "execution_count": null,
   "id": "55cb3711",
   "metadata": {},
   "outputs": [],
   "source": [
    "musicdata[['number_of_records', 'value_actual']].agg(DoubleSum)"
   ]
  },
  {
   "cell_type": "markdown",
   "id": "1812d030",
   "metadata": {},
   "source": [
    "### 使用agg方法做简单聚合"
   ]
  },
  {
   "cell_type": "code",
   "execution_count": null,
   "id": "0b254641",
   "metadata": {},
   "outputs": [],
   "source": [
    "musicdataGroup.agg(np.mean)\n",
    "#musicdataGroup.mean()"
   ]
  },
  {
   "cell_type": "code",
   "execution_count": null,
   "id": "eb501803",
   "metadata": {},
   "outputs": [],
   "source": [
    "musicdataGroup.agg(np.std)\n",
    "#musicdataGroup.std()"
   ]
  },
  {
   "cell_type": "markdown",
   "id": "e38970cc",
   "metadata": {},
   "source": [
    "### 使用agg方法对分组数据使用不同的聚合函数"
   ]
  },
  {
   "cell_type": "code",
   "execution_count": null,
   "id": "dcaf7d7b",
   "metadata": {},
   "outputs": [],
   "source": [
    "musicdataGroup.agg([('number_of_records', 'count'), ('value_actual', 'mean')])\n",
    "#信息表分组前3组每种销售形式的记录数和销售价格均值"
   ]
  },
  {
   "cell_type": "markdown",
   "id": "8304df24",
   "metadata": {},
   "source": [
    "## 使用apply方法聚合数据"
   ]
  },
  {
   "cell_type": "markdown",
   "id": "02e35707",
   "metadata": {},
   "source": [
    "pandas 的 .apply() 方法是一个非常灵活且强大的工具，它允许你对 Series 或 DataFrame 的每一行或每一列 应用自定义函数或内置函数，实现复杂的数据处理逻辑\n"
   ]
  },
  {
   "cell_type": "markdown",
   "id": "ab1a3538",
   "metadata": {},
   "source": [
    "- .apply() 可以将一个函数“应用”到：\n",
    "    - Series（一列数据）上的每个元素\n",
    "    - DataFrame 的每一行或每一列\n",
    "- 支持使用：\n",
    "    - 内置函数（如 sum, len, str.upper）\n",
    "    - 自定义函数（如 lambda 表达式）\n"
   ]
  },
  {
   "cell_type": "markdown",
   "id": "7b7e8910",
   "metadata": {},
   "source": [
    "### apply方法的常用参数及其说明"
   ]
  },
  {
   "cell_type": "markdown",
   "id": "cdd93eae",
   "metadata": {},
   "source": [
    "```\n",
    "df.apply( func,axis=0,raw=false,result_type=None)\n",
    "```\n",
    "\n",
    "参数说明\n",
    "| 参数 | 说明 | \n",
    "|-|-|\n",
    "| func | 要应用的函数，可以是内置函数、自定义函数或 lambda 表达式 | \n",
    "| axis | 0 表示按列（默认），1 表示按行 | \n",
    "| raw | 是否以 ndarray 形式传入（默认 False，传入 Series） | \n",
    "| result_type | 控制返回值的格式（如 'expand', 'reduce', 'broadcast'） | \n",
    "\n"
   ]
  },
  {
   "cell_type": "markdown",
   "id": "284546b0",
   "metadata": {},
   "source": [
    ".apply() vs .agg() vs .map()\n",
    "| 方法 |适用对象  | 用途 | 特点 | \n",
    "|-|-|-|-|\n",
    "| apply() |Series / DataFrame | 灵活地应用任意函数 | 最通用 | \n",
    "| agg() | Series / DataFrame / GroupBy | 聚合统计 | 多函数组合 | \n",
    "| map() | 仅 Series | 元素级映射 | 更轻量 | \n"
   ]
  },
  {
   "cell_type": "markdown",
   "id": "c440ae63",
   "metadata": {},
   "source": [
    "### 使用apply方法聚合数据"
   ]
  },
  {
   "cell_type": "code",
   "execution_count": null,
   "id": "1627187c",
   "metadata": {},
   "outputs": [],
   "source": [
    "musicdata[['number_of_records', 'value_actual']].apply(np.mean)"
   ]
  },
  {
   "cell_type": "code",
   "execution_count": null,
   "id": "6c021032",
   "metadata": {},
   "outputs": [],
   "source": [
    "musicdataGroup.apply(np.mean)"
   ]
  },
  {
   "cell_type": "code",
   "execution_count": null,
   "id": "71e79229",
   "metadata": {},
   "outputs": [],
   "source": [
    "musicdataGroup.apply(np.std)"
   ]
  },
  {
   "cell_type": "markdown",
   "id": "812ee9d0",
   "metadata": {},
   "source": [
    "## 使用transform方法聚合数据"
   ]
  },
  {
   "cell_type": "markdown",
   "id": "30472e27",
   "metadata": {},
   "source": [
    "pandas 的 .transform() 方法是一个非常强大的工具，常用于分组后对每个元素进行转换，它与 .apply() 和 .agg() 有些相似，但用途更特殊。\n"
   ]
  },
  {
   "cell_type": "markdown",
   "id": "f09b81b9",
   "metadata": {},
   "source": [
    ".transform() 是什么？\n",
    "\n",
    ".transform() 用于对 Series 或 GroupBy 对象中的每个元素进行转换，返回的结果与原始数据的形状一致。\n",
    "\n",
    "特点：\n",
    "- 返回的结果与原始数据 行数相同\n",
    "- 常用于 分组标准化、归一化、填充等逐行操作\n",
    "- 支持单个函数、多个函数、lambda 表达式、\n",
    "\n",
    "使用场景\n",
    "- 分组后做标准化、归一化\n",
    "- 分组填充缺失值\n",
    "- 构造新列用于建模或分析\n"
   ]
  },
  {
   "cell_type": "markdown",
   "id": "7a8f8033",
   "metadata": {},
   "source": [
    ".transform() vs .apply() vs .agg()\n",
    "| 方法 |返回形状  | 用途 | 特点 | \n",
    "|-|-|-|-|\n",
    "| transform | 与原始数据相同 | 元素级转换（如标准化） | 保持原行数 | \n",
    "| apply | 可变 | 灵活处理每组数据 | 可返回标量或序列 | \n",
    "| agg | 聚合结果 | 汇总统计（如平均值） | 返回缩减后的结果 | \n"
   ]
  },
  {
   "cell_type": "markdown",
   "id": "16b7b0ee",
   "metadata": {},
   "source": [
    "### transform方法的常用参数及说明"
   ]
  },
  {
   "cell_type": "markdown",
   "id": "2f8a0960",
   "metadata": {},
   "source": [
    "```\n",
    "df.transform(func, axis=0)\n",
    "```\n",
    "- func：可以是字符串函数名、函数对象或 lambda 表达式\n",
    "- axis：默认是按列（axis=0）\n"
   ]
  },
  {
   "cell_type": "markdown",
   "id": "d83fe02b",
   "metadata": {},
   "source": [
    "### 使用transform方法聚合数据"
   ]
  },
  {
   "cell_type": "code",
   "execution_count": null,
   "id": "5158457a",
   "metadata": {},
   "outputs": [],
   "source": [
    "musicdata[['number_of_records', 'value_actual']].transform(lambda x: x * 2)\n",
    "#收入信息表销售数量和销售价格的两倍"
   ]
  },
  {
   "cell_type": "code",
   "execution_count": null,
   "id": "2be06eea",
   "metadata": {},
   "outputs": [],
   "source": [
    "musicdataGroup.transform(lambda x: (x.mean()- x.min()) / (x.max() - x.min()))\n",
    "#收入信息表分组后实现组内离差标准化后"
   ]
  }
 ],
 "metadata": {
  "kernelspec": {
   "display_name": "3.12.5",
   "language": "python",
   "name": "python3"
  },
  "language_info": {
   "codemirror_mode": {
    "name": "ipython",
    "version": 3
   },
   "file_extension": ".py",
   "mimetype": "text/x-python",
   "name": "python",
   "nbconvert_exporter": "python",
   "pygments_lexer": "ipython3",
   "version": "3.12.5"
  }
 },
 "nbformat": 4,
 "nbformat_minor": 5
}
