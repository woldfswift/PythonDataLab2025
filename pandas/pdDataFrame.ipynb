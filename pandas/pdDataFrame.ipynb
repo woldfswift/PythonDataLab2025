{
 "cells": [
  {
   "cell_type": "markdown",
   "id": "a3412d7e",
   "metadata": {},
   "source": [
    "# 掌握DataFrame的常规操作"
   ]
  },
  {
   "cell_type": "code",
   "execution_count": null,
   "id": "44d440d7",
   "metadata": {},
   "outputs": [],
   "source": [
    "import pandas as pd"
   ]
  },
  {
   "cell_type": "code",
   "execution_count": null,
   "id": "2ad65b2c",
   "metadata": {},
   "outputs": [],
   "source": [
    "# 设置每列最大宽度（比如 100）\n",
    "pd.set_option('display.max_colwidth', 100)\n",
    "\n",
    "# 设置显示的最大列数（比如 20）\n",
    "pd.set_option('display.max_columns', 20)\n",
    "\n",
    "# 设置显示宽度（比如 1000）\n",
    "pd.set_option('display.width', 1000)\n"
   ]
  },
  {
   "cell_type": "markdown",
   "id": "a018d11f",
   "metadata": {},
   "source": [
    "## 什么是DataFrame\n",
    "\n",
    "DataFrame 是 Pandas 中最核心的数据结构之一，可以理解为一个 二维表格，类似于 Excel 表格或数据库中的数据表。它由 行（index） 和 列（columns） 组成，每列可以是不同的数据类型。\n",
    "\n",
    "DataFrame 的主要特点：\n",
    "- 结构清晰：每一列都有列名，每一行都有索引。\n",
    "- 支持多种数据类型：如整数、浮点数、字符串、布尔值等。\n",
    "- 灵活的数据操作：可以轻松进行筛选、排序、分组、合并、统计等操作。\n",
    "- 与其他格式兼容：可以从 CSV、Excel、SQL、JSON 等格式读取或导出数据。\n"
   ]
  },
  {
   "cell_type": "markdown",
   "id": "94386d3b",
   "metadata": {},
   "source": [
    "创建一个简单的 DataFrame 示例"
   ]
  },
  {
   "cell_type": "code",
   "execution_count": null,
   "id": "683a77b5",
   "metadata": {},
   "outputs": [],
   "source": [
    "import pandas as pd\n",
    "\n",
    "data = {\n",
    "    '姓名': ['张三', '李四', '王五'],\n",
    "    '年龄': [25, 30, 28],\n",
    "    '城市': ['北京', '上海', '广州']\n",
    "}\n",
    "\n",
    "df = pd.DataFrame(data)\n",
    "print(df)"
   ]
  },
  {
   "cell_type": "markdown",
   "id": "6698d876",
   "metadata": {},
   "source": [
    "## 查看DataFrame的常用属性"
   ]
  },
  {
   "cell_type": "code",
   "execution_count": null,
   "id": "3c813d96",
   "metadata": {},
   "outputs": [],
   "source": [
    "musicdata0 = pd.read_table('./pd_data/musicdata.csv', sep=',', encoding='gbk')"
   ]
  },
  {
   "cell_type": "code",
   "execution_count": null,
   "id": "1063aef8",
   "metadata": {},
   "outputs": [],
   "source": [
    "print(musicdata0.index)  #信息表的索引"
   ]
  },
  {
   "cell_type": "markdown",
   "id": "d3b46349",
   "metadata": {},
   "source": [
    "\n",
    "|  参数| 含义 | \n",
    "---|---|\n",
    "| start=0 | 起始值，从0开始 | \n",
    "| stop=3008 | 结束值（不包含），即索引到 3007 为止 | \n",
    "| step=1 | 步长，每次递增 1 | \n",
    "\n",
    "\n",
    "这段 RangeIndex(start=0, stop=3008, step=1) 表示一个从 0 到 3007 的整数序列，总共 3008 个索引值。\n"
   ]
  },
  {
   "cell_type": "code",
   "execution_count": null,
   "id": "3386d65f",
   "metadata": {},
   "outputs": [],
   "source": [
    "print(musicdata0.values)  #信息表的所有值"
   ]
  },
  {
   "cell_type": "code",
   "execution_count": null,
   "id": "0c0e1aa8",
   "metadata": {},
   "outputs": [],
   "source": [
    "print(musicdata0.columns)  #信息表的列名"
   ]
  },
  {
   "cell_type": "markdown",
   "id": "4ee7d002",
   "metadata": {},
   "source": [
    "- object 是 Pandas 中的通用字符串类型\n"
   ]
  },
  {
   "cell_type": "code",
   "execution_count": null,
   "id": "bd707d94",
   "metadata": {},
   "outputs": [],
   "source": [
    "print(musicdata0.dtypes)  #信息表的数据类型"
   ]
  },
  {
   "cell_type": "code",
   "execution_count": null,
   "id": "e92710cb",
   "metadata": {},
   "outputs": [],
   "source": [
    "print(musicdata0.size)  #信息表的元素个数"
   ]
  },
  {
   "cell_type": "code",
   "execution_count": null,
   "id": "1047f7d9",
   "metadata": {},
   "outputs": [],
   "source": [
    "print(musicdata0.ndim)  #信息表的维度数"
   ]
  },
  {
   "cell_type": "code",
   "execution_count": null,
   "id": "f0382d48",
   "metadata": {},
   "outputs": [],
   "source": [
    "print(musicdata0.shape)  #信息表的形状"
   ]
  },
  {
   "cell_type": "code",
   "execution_count": null,
   "id": "cef681ed",
   "metadata": {},
   "outputs": [],
   "source": [
    "print(musicdata0.T.shape)  #使用T属性进行转置"
   ]
  },
  {
   "cell_type": "markdown",
   "id": "ab629867",
   "metadata": {},
   "source": [
    "## 对DataFrame数据进行增删改查"
   ]
  },
  {
   "cell_type": "markdown",
   "id": "073aae77",
   "metadata": {},
   "source": [
    "### 查看DataFrame数据"
   ]
  },
  {
   "cell_type": "code",
   "execution_count": null,
   "id": "220d7833",
   "metadata": {},
   "outputs": [],
   "source": [
    "# 使用字典访问的方式取出musicdata中的某一列\n",
    "format = musicdata0['format']"
   ]
  },
  {
   "cell_type": "code",
   "execution_count": null,
   "id": "768408eb",
   "metadata": {},
   "outputs": [],
   "source": [
    "print(format)"
   ]
  },
  {
   "cell_type": "code",
   "execution_count": null,
   "id": "4eb8e281",
   "metadata": {},
   "outputs": [],
   "source": [
    "print(format.shape)"
   ]
  },
  {
   "cell_type": "code",
   "execution_count": null,
   "id": "f5116840",
   "metadata": {},
   "outputs": [],
   "source": [
    "# 使用访问属性的方式取出musicdata中的number_of_records\n",
    "number_of_records = musicdata0.number_of_records"
   ]
  },
  {
   "cell_type": "code",
   "execution_count": null,
   "id": "89c2f926",
   "metadata": {},
   "outputs": [],
   "source": [
    "print(number_of_records)"
   ]
  },
  {
   "cell_type": "code",
   "execution_count": null,
   "id": "8c79220b",
   "metadata": {},
   "outputs": [],
   "source": [
    "print(number_of_records.shape)"
   ]
  },
  {
   "cell_type": "code",
   "execution_count": null,
   "id": "0b20419b",
   "metadata": {},
   "outputs": [],
   "source": [
    "# 访问信息表中metric的前五个元素\n",
    "metric5 = musicdata0['metric'][:5]"
   ]
  },
  {
   "cell_type": "code",
   "execution_count": null,
   "id": "5f303fa1",
   "metadata": {},
   "outputs": [],
   "source": [
    "print(metric5)"
   ]
  },
  {
   "cell_type": "code",
   "execution_count": null,
   "id": "062ecc6e",
   "metadata": {},
   "outputs": [],
   "source": [
    "# 访问信息表中format和metric列的前五个元素\n",
    "format_metric = musicdata0[['format', 'metric']][:5]"
   ]
  },
  {
   "cell_type": "code",
   "execution_count": null,
   "id": "9eb6b263",
   "metadata": {},
   "outputs": [],
   "source": [
    "print(format_metric)"
   ]
  },
  {
   "cell_type": "code",
   "execution_count": null,
   "id": "af1f4a5c",
   "metadata": {},
   "outputs": [],
   "source": [
    "# 访问数据表1-6行的元素\n",
    "musicdata5 = musicdata0[:][1:6]"
   ]
  },
  {
   "cell_type": "code",
   "execution_count": null,
   "id": "54951be3",
   "metadata": {},
   "outputs": [],
   "source": [
    "print(musicdata5)"
   ]
  },
  {
   "cell_type": "code",
   "execution_count": null,
   "id": "f07e41f4",
   "metadata": {},
   "outputs": [],
   "source": [
    "# 使用head方法访问前5行数据\n",
    "print(musicdata0.head())"
   ]
  },
  {
   "cell_type": "code",
   "execution_count": null,
   "id": "4cf1ae88",
   "metadata": {},
   "outputs": [],
   "source": [
    "# 使用tail方法访问后5行数据\n",
    "print(musicdata0.tail())"
   ]
  },
  {
   "cell_type": "markdown",
   "id": "006f0629",
   "metadata": {},
   "source": [
    "使用loc和iloc方法"
   ]
  },
  {
   "cell_type": "markdown",
   "id": "cb8df4b4",
   "metadata": {},
   "source": [
    "在 Pandas 中，loc 和 iloc 是两个非常重要的索引方法，用于从 DataFrame 或 Series 中选取数据。它们的区别在于：一个是按标签选取，一个是按位置选取。\n"
   ]
  },
  {
   "cell_type": "markdown",
   "id": "23afd06d",
   "metadata": {},
   "source": [
    "loc —— 按标签（名称）选取\n",
    "\n",
    "用法：\n",
    "\n",
    "```df.loc[行标签, 列标签]```\n",
    "\n",
    "\n",
    "特点：\n",
    "- 使用行索引名称和列名来定位数据。\n",
    "- 支持布尔条件筛选。\n"
   ]
  },
  {
   "cell_type": "markdown",
   "id": "ef972d7c",
   "metadata": {},
   "source": [
    "iloc —— 按位置（整数索引）选取\n",
    "\n",
    "用法：\n",
    "\n",
    "```df.iloc[行位置, 列位置]```\n",
    "\n",
    "\n",
    "特点：\n",
    "- 使用整数位置来定位数据。\n",
    "- 类似于 Python 的列表切片。\n"
   ]
  },
  {
   "cell_type": "code",
   "execution_count": null,
   "id": "03ebfa0a",
   "metadata": {},
   "outputs": [],
   "source": [
    "format1 = musicdata0.loc[:, 'format']"
   ]
  },
  {
   "cell_type": "code",
   "execution_count": null,
   "id": "6bc2943d",
   "metadata": {},
   "outputs": [],
   "source": [
    "print(format1)"
   ]
  },
  {
   "cell_type": "code",
   "execution_count": null,
   "id": "5e288e55",
   "metadata": {},
   "outputs": [],
   "source": [
    "format2 = musicdata0.iloc[:, 0]"
   ]
  },
  {
   "cell_type": "code",
   "execution_count": null,
   "id": "b952f951",
   "metadata": {},
   "outputs": [],
   "source": [
    "print(format2)"
   ]
  },
  {
   "cell_type": "code",
   "execution_count": null,
   "id": "0bc622c1",
   "metadata": {},
   "outputs": [],
   "source": [
    "format_metric1 = musicdata0.loc[:, ['format', 'metric']]"
   ]
  },
  {
   "cell_type": "code",
   "execution_count": null,
   "id": "d6ad4cba",
   "metadata": {},
   "outputs": [],
   "source": [
    "print(format_metric1)"
   ]
  },
  {
   "cell_type": "code",
   "execution_count": null,
   "id": "e13cf7f7",
   "metadata": {},
   "outputs": [],
   "source": [
    "format_metric2 = musicdata0.iloc[:, [0, 1]]"
   ]
  },
  {
   "cell_type": "code",
   "execution_count": null,
   "id": "46d71aaf",
   "metadata": {},
   "outputs": [],
   "source": [
    "print(format_metric2)"
   ]
  },
  {
   "cell_type": "code",
   "execution_count": null,
   "id": "a18176a3",
   "metadata": {},
   "outputs": [],
   "source": [
    "print(musicdata0.loc[3, ['format', 'metric']])"
   ]
  },
  {
   "cell_type": "code",
   "execution_count": null,
   "id": "3d97686c",
   "metadata": {},
   "outputs": [],
   "source": [
    "print(musicdata0.loc[2: 6, ['format', 'metric']])"
   ]
  },
  {
   "cell_type": "code",
   "execution_count": null,
   "id": "eed24cf3",
   "metadata": {},
   "outputs": [],
   "source": [
    "print(musicdata0.iloc[3, [0, 1]])"
   ]
  },
  {
   "cell_type": "code",
   "execution_count": null,
   "id": "1d937091",
   "metadata": {},
   "outputs": [],
   "source": [
    "print(musicdata0.iloc[2: 7, [0, 1]])"
   ]
  },
  {
   "cell_type": "code",
   "execution_count": null,
   "id": "c584bb10",
   "metadata": {},
   "outputs": [],
   "source": [
    "print(musicdata0.loc[musicdata0['metric'] == 'Units', ['format', 'metric']])  #musicdata0中metric为“Units”的format"
   ]
  },
  {
   "cell_type": "code",
   "execution_count": null,
   "id": "de82cef3",
   "metadata": {},
   "outputs": [],
   "source": [
    "print(musicdata0.iloc[musicdata0['metric'] == 'Units', [1, 4]])  #musicdata0中metric为“Units”的第1、4列数据\n",
    "#NotImplementedError: iLocation based boolean indexing on an integer type is not available"
   ]
  },
  {
   "cell_type": "code",
   "execution_count": null,
   "id": "e2e405ea",
   "metadata": {},
   "outputs": [],
   "source": [
    "print(musicdata0.iloc[(musicdata0['metric'] == 'Units').values, [1, 4]])  #musicdata0中metric为“Units”的第1、4列数据"
   ]
  },
  {
   "cell_type": "markdown",
   "id": "7fbe8d4d",
   "metadata": {},
   "source": [
    "### 更改DataFrame中的数据"
   ]
  },
  {
   "cell_type": "code",
   "execution_count": null,
   "id": "9690bba3",
   "metadata": {},
   "outputs": [],
   "source": [
    "print(musicdata0.loc[musicdata0['format'] == 'CD', 'format'])"
   ]
  },
  {
   "cell_type": "code",
   "execution_count": null,
   "id": "4d923a8e",
   "metadata": {},
   "outputs": [],
   "source": [
    "# 将format值为CD的变换为数值1\n",
    "musicdata0.loc[musicdata0['format'] == 'CD', 'format']=1"
   ]
  },
  {
   "cell_type": "code",
   "execution_count": null,
   "id": "47304945",
   "metadata": {},
   "outputs": [],
   "source": [
    "print(musicdata0.loc[musicdata0['format'] == 1, 'format'])"
   ]
  },
  {
   "cell_type": "markdown",
   "id": "1eef241f",
   "metadata": {},
   "source": [
    "### 为DataFrame新增数据"
   ]
  },
  {
   "cell_type": "code",
   "execution_count": null,
   "id": "3751af45",
   "metadata": {},
   "outputs": [],
   "source": [
    "# 为信息表新增number列，并设置递增\n",
    "musicdata0['number'] = range(1, len(musicdata0) + 1)"
   ]
  },
  {
   "cell_type": "code",
   "execution_count": null,
   "id": "87fa5e64",
   "metadata": {},
   "outputs": [],
   "source": [
    "print(musicdata0)"
   ]
  },
  {
   "cell_type": "code",
   "execution_count": null,
   "id": "a3c942eb",
   "metadata": {},
   "outputs": [],
   "source": [
    "# 为信息表新增T列\n",
    "musicdata0['T'] = '0'"
   ]
  },
  {
   "cell_type": "code",
   "execution_count": null,
   "id": "b12df8f0",
   "metadata": {},
   "outputs": [],
   "source": [
    "print(musicdata0)"
   ]
  },
  {
   "cell_type": "markdown",
   "id": "3de127bb",
   "metadata": {},
   "source": [
    "### 删除某列或某行数据"
   ]
  },
  {
   "cell_type": "markdown",
   "id": "7dbc2045",
   "metadata": {},
   "source": [
    "在 Pandas 中，drop() 是一个非常常用的方法，用于删除行或列，无论是按标签名还是按位置。它非常灵活，适用于数据清洗、结构调整等场景。\n"
   ]
  },
  {
   "cell_type": "markdown",
   "id": "d9da08a5",
   "metadata": {},
   "source": [
    "drop() 方法的基本语法：\n",
    "\n",
    "```df.drop(labels, axis=0 or 1, inplace=False)```\n",
    "\n",
    "|参数|说明| \n",
    "|---|---|\n",
    "| labels |要删除的行或列的名称或列表| \n",
    "| axis |0 表示删除行，1 表示删除列| \n",
    "| inplace |是否直接在原 DataFrame 上修改，默认 False（返回新对象）| \n"
   ]
  },
  {
   "cell_type": "code",
   "execution_count": null,
   "id": "c2d52359",
   "metadata": {},
   "outputs": [],
   "source": [
    "print(musicdata0.columns)"
   ]
  },
  {
   "cell_type": "code",
   "execution_count": null,
   "id": "1ad4f381",
   "metadata": {},
   "outputs": [],
   "source": [
    "musicdata0.drop(labels='T', axis=1, inplace=True)"
   ]
  },
  {
   "cell_type": "code",
   "execution_count": null,
   "id": "6bc01f00",
   "metadata": {},
   "outputs": [],
   "source": [
    "print( musicdata0.columns)"
   ]
  },
  {
   "cell_type": "code",
   "execution_count": null,
   "id": "98982e10",
   "metadata": {},
   "outputs": [],
   "source": [
    "print(len(musicdata0))"
   ]
  },
  {
   "cell_type": "code",
   "execution_count": null,
   "id": "212f6cd0",
   "metadata": {},
   "outputs": [],
   "source": [
    "musicdata0.drop(labels=range(1, 4), axis=0, inplace=True)  #删除1-3行"
   ]
  },
  {
   "cell_type": "code",
   "execution_count": null,
   "id": "aeae372c",
   "metadata": {},
   "outputs": [],
   "source": [
    "print(len(musicdata0))"
   ]
  },
  {
   "cell_type": "markdown",
   "id": "0424932e",
   "metadata": {},
   "source": [
    "## 描述分析DataFrame数据"
   ]
  },
  {
   "cell_type": "code",
   "execution_count": null,
   "id": "c04de687",
   "metadata": {},
   "outputs": [],
   "source": [
    "import numpy as np"
   ]
  },
  {
   "cell_type": "code",
   "execution_count": null,
   "id": "a487aecc",
   "metadata": {},
   "outputs": [],
   "source": [
    "print(np.mean(musicdata0['number_of_records']))  #信息表中number_of_records的平均值，使用np.mean方法\n"
   ]
  },
  {
   "cell_type": "code",
   "execution_count": null,
   "id": "534dfd72",
   "metadata": {},
   "outputs": [],
   "source": [
    "print(musicdata0['number_of_records'].mean())  #信息表中number_of_records的平均值，使用pandas的mean方法"
   ]
  },
  {
   "cell_type": "code",
   "execution_count": null,
   "id": "24075e2c",
   "metadata": {},
   "outputs": [],
   "source": [
    "print(musicdata0['value_actual'].describe())  #信息表value_actual的描述性统计"
   ]
  },
  {
   "cell_type": "code",
   "execution_count": null,
   "id": "8a5afb7a",
   "metadata": {},
   "outputs": [],
   "source": [
    "print(musicdata0.isnull().sum())  # 每列缺失值数量"
   ]
  },
  {
   "cell_type": "code",
   "execution_count": null,
   "id": "56064590",
   "metadata": {},
   "outputs": [],
   "source": [
    "print(musicdata0.info())  # 总览数据类型和缺失情况"
   ]
  },
  {
   "cell_type": "code",
   "execution_count": null,
   "id": "d16d686f",
   "metadata": {},
   "outputs": [],
   "source": [
    "print(musicdata0['format'].value_counts()[:6])  #信息表format频数统计前6行结果"
   ]
  },
  {
   "cell_type": "code",
   "execution_count": null,
   "id": "a75d7363",
   "metadata": {},
   "outputs": [],
   "source": [
    "print(musicdata0['format'].value_counts())"
   ]
  },
  {
   "cell_type": "code",
   "execution_count": null,
   "id": "eaa1f14c",
   "metadata": {},
   "outputs": [],
   "source": [
    "musicdata0['metric'] = musicdata0['metric'].astype('category')"
   ]
  },
  {
   "cell_type": "markdown",
   "id": "557ba4b4",
   "metadata": {},
   "source": [
    "什么是分类类型（category）？\n",
    "\n",
    "分类类型适用于那些值重复率高、种类有限的列，比如性别、城市、产品类型等。相比字符串（object），分类类型会为每个唯一值分配一个整数编码，从而节省内存。\n"
   ]
  },
  {
   "cell_type": "code",
   "execution_count": null,
   "id": "1f1696c3",
   "metadata": {},
   "outputs": [],
   "source": [
    "print(musicdata0['metric'].dtypes) "
   ]
  },
  {
   "cell_type": "code",
   "execution_count": null,
   "id": "cf255c9e",
   "metadata": {},
   "outputs": [],
   "source": [
    "print(musicdata0['metric'].describe())  #信息表metric的描述统计结果\n",
    "    "
   ]
  }
 ],
 "metadata": {
  "kernelspec": {
   "display_name": "3.12.5",
   "language": "python",
   "name": "python3"
  },
  "language_info": {
   "codemirror_mode": {
    "name": "ipython",
    "version": 3
   },
   "file_extension": ".py",
   "mimetype": "text/x-python",
   "name": "python",
   "nbconvert_exporter": "python",
   "pygments_lexer": "ipython3",
   "version": "3.12.5"
  }
 },
 "nbformat": 4,
 "nbformat_minor": 5
}
