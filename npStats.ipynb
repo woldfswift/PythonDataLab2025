{
 "cells": [
  {
   "cell_type": "markdown",
   "id": "0842d646",
   "metadata": {},
   "source": [
    "# 利用Numpy进行统计分析"
   ]
  },
  {
   "cell_type": "code",
   "execution_count": null,
   "id": "a3eb09de",
   "metadata": {},
   "outputs": [],
   "source": [
    "import numpy as np"
   ]
  },
  {
   "cell_type": "markdown",
   "id": "2664779c",
   "metadata": {},
   "source": [
    "## 读\\写文件"
   ]
  },
  {
   "cell_type": "markdown",
   "id": "e422edb3",
   "metadata": {},
   "source": [
    "### 将数组保存到文件"
   ]
  },
  {
   "cell_type": "markdown",
   "id": "111db02c",
   "metadata": {},
   "source": [
    "此处默认的保存文件是*.npz；npz文件是numpy自带的一个压缩文件，可以集成多个文件，方便数据处理。"
   ]
  },
  {
   "cell_type": "code",
   "execution_count": null,
   "id": "afb44bbe",
   "metadata": {},
   "outputs": [],
   "source": [
    "arr = np.arange(100).reshape(10, 10)  # 创建一个数组\n",
    "print(arr)\n",
    "np.save('./tmp/save_arr',arr)  #使用save将数组保存为二进制文件"
   ]
  },
  {
   "cell_type": "code",
   "execution_count": null,
   "id": "33e7c6d1",
   "metadata": {},
   "outputs": [],
   "source": [
    "arr1 = np.array([[1, 2, 3], [4, 5, 6]])\n",
    "arr2 = np.arange(0, 1.0, 0.1)\n",
    "print(arr1)\n",
    "print('\\n')\n",
    "print(arr2)\n",
    "np.savez('./tmp/savez_arr', arr1, arr2)  #使用savez将多个数组保存到一个文件里\n"
   ]
  },
  {
   "cell_type": "code",
   "execution_count": null,
   "id": "df98f4ca",
   "metadata": {},
   "outputs": [],
   "source": [
    "loaded_data = np.load('./tmp/save_arr.npy')  #读取含有单个数组的文件\n",
    "print(loaded_data)"
   ]
  },
  {
   "cell_type": "code",
   "execution_count": null,
   "id": "b817ea24",
   "metadata": {},
   "outputs": [],
   "source": [
    "loaded_data1 = np.load('./tmp/savez_arr.npz') #读取含有多个数组的文件"
   ]
  },
  {
   "cell_type": "code",
   "execution_count": null,
   "id": "286fa463",
   "metadata": {},
   "outputs": [],
   "source": [
    "print(loaded_data1)\n",
    "#NpzFile './tmp/savez_arr.npz' with keys: arr_0, arr_1"
   ]
  },
  {
   "cell_type": "code",
   "execution_count": null,
   "id": "e765e307",
   "metadata": {},
   "outputs": [],
   "source": [
    "print(loaded_data1['arr_0'])"
   ]
  },
  {
   "cell_type": "code",
   "execution_count": null,
   "id": "6d75b589",
   "metadata": {},
   "outputs": [],
   "source": [
    "print(loaded_data1['arr_1'])"
   ]
  },
  {
   "cell_type": "code",
   "execution_count": null,
   "id": "2a1e973f",
   "metadata": {},
   "outputs": [],
   "source": [
    "arr = np.arange(0, 12, 0.5).reshape(4, -1)\n",
    "print(arr)"
   ]
  },
  {
   "cell_type": "code",
   "execution_count": null,
   "id": "f9464440",
   "metadata": {},
   "outputs": [],
   "source": [
    "np.savetxt('./tmp/arr1.txt', arr, fmt='%.2f', delimiter=',')\n",
    "#常见格式：'%d'：整数格式。'%f'：浮点数格式。 '%.2f'：保留两位小数的浮点数。 '%e'：科学计数法"
   ]
  },
  {
   "cell_type": "code",
   "execution_count": null,
   "id": "7c68af0a",
   "metadata": {},
   "outputs": [],
   "source": [
    "loaded_data = np.loadtxt('./tmp/arr.txt', delimiter=',') \n",
    "print(loaded_data)"
   ]
  },
  {
   "cell_type": "code",
   "execution_count": null,
   "id": "0b1ec49a",
   "metadata": {},
   "outputs": [],
   "source": [
    "loaded_data = np.genfromtxt('./tmp/arr1.txt', delimiter=',')  #使用genformtxt读取整数数组\n",
    "print(loaded_data)"
   ]
  },
  {
   "cell_type": "markdown",
   "id": "71952f67",
   "metadata": {},
   "source": [
    "loadtxt：适合简单、无缺失值的文件，效率高。\n",
    "\n",
    "genfromtxt：功能更强大，适合复杂文件，支持缺失值处理。\n",
    "|特性|loadtxt|genfromtxt|\n",
    "|-|-|-|\n",
    "|处理缺失值|不支持|自动填充或忽略缺失值|\n",
    "|数据类型推断|需要手动指定|可以自动推断每列的数据类型|\n",
    "|灵活性|较低，只适合结构规整的数据|高，适合处理复杂或不规则的数据|\n",
    "|性能|更快，适合大规模规整数据|稍慢，但功能更强|\n",
    "|常用场景|快速读取整齐的数值型数据|读取含空值、注释、混合类型的复杂数据文件|\n",
    "\n",
    "如果处理的是干净的 CSV 或 TXT 文件，loadtxt 是更快的选择；但如果处理的是带缺失值、注释或混合类型的复杂数据，genfromtxt 更好。\n"
   ]
  },
  {
   "cell_type": "markdown",
   "id": "eb63cc26",
   "metadata": {},
   "source": [
    "## 使用函数进行简单的统计分析"
   ]
  },
  {
   "cell_type": "markdown",
   "id": "7116d881",
   "metadata": {},
   "source": [
    "### 排序"
   ]
  },
  {
   "cell_type": "code",
   "execution_count": null,
   "id": "7993210b",
   "metadata": {},
   "outputs": [],
   "source": [
    "np.random.seed(42)  # 设置随机种子\n",
    "arr = np.random.randint(1, 10, size=10)  # 生成随机数组\n",
    "print(arr)"
   ]
  },
  {
   "cell_type": "code",
   "execution_count": null,
   "id": "3155f7d7",
   "metadata": {},
   "outputs": [],
   "source": [
    "arr.sort()  # 直接排序\n",
    "print( arr)"
   ]
  },
  {
   "cell_type": "code",
   "execution_count": null,
   "id": "ea95da66",
   "metadata": {},
   "outputs": [],
   "source": [
    "np.random.seed(42)  # 设置随机种子\n",
    "arr = np.random.randint(1, 10, size=(3, 3))  # 生成3行3列的随机数组\n",
    "print(arr)"
   ]
  },
  {
   "cell_type": "code",
   "execution_count": null,
   "id": "0a45dea5",
   "metadata": {},
   "outputs": [],
   "source": [
    "arr.sort(axis=1)  # 沿着横轴排序\n",
    "print(arr)"
   ]
  },
  {
   "cell_type": "code",
   "execution_count": null,
   "id": "676cbf30",
   "metadata": {},
   "outputs": [],
   "source": [
    "\n",
    "arr.sort(axis=0)  # 沿着纵轴排序\n",
    "print(arr)"
   ]
  },
  {
   "cell_type": "code",
   "execution_count": null,
   "id": "14660078",
   "metadata": {},
   "outputs": [],
   "source": [
    "arr = np.array([2, 3 , 6, 8, 0, 7])\n",
    "print(arr)"
   ]
  },
  {
   "cell_type": "code",
   "execution_count": null,
   "id": "f290a23d",
   "metadata": {},
   "outputs": [],
   "source": [
    "print(arr.argsort())  # 返回值为重新排序值的下标"
   ]
  },
  {
   "cell_type": "code",
   "execution_count": null,
   "id": "926d55de",
   "metadata": {},
   "outputs": [],
   "source": [
    "a = np.array([3, 2, 6, 4, 5])\n",
    "b = np.array([50, 30, 40, 20, 10])\n",
    "c = np.array([400, 300, 600, 100, 200])\n",
    "d = np.lexsort((a, b, c))  # lexsort函数只接受一个参数，即（a,b,c）\n",
    "# 多个键值排序是按照最后一个传入数据计算的\n",
    "print('排序后数组为：\\n', list(zip(a[d], b[d], c[d])))"
   ]
  },
  {
   "cell_type": "markdown",
   "id": "cd2d8a69",
   "metadata": {},
   "source": [
    "延伸：其他常见 NumPy 类型转换\n",
    "| numpy类型 | python类型 | \n",
    "|-|-|\n",
    "| np.int32/np.int64 | int(x) | \n",
    "| np.float64 | float(x) | \n",
    "| np.str_ | str(x) | \n",
    "| np.bool_ | bool(x) | \n"
   ]
  },
  {
   "cell_type": "code",
   "execution_count": null,
   "id": "0faf5f97",
   "metadata": {},
   "outputs": [],
   "source": [
    "names = np.array(['Alice', 'Bob', 'Charlie', 'David'])\n",
    "ages = np.array([25, 30, 25, 30])\n",
    "scores = np.array([90, 85, 95, 80])\n"
   ]
  },
  {
   "cell_type": "code",
   "execution_count": null,
   "id": "f3fb2016",
   "metadata": {},
   "outputs": [],
   "source": [
    "idx = np.lexsort((scores, ages))\n",
    "print(names[idx])"
   ]
  },
  {
   "cell_type": "markdown",
   "id": "b6da90f0",
   "metadata": {},
   "source": [
    "## 去重与重复"
   ]
  },
  {
   "cell_type": "code",
   "execution_count": null,
   "id": "254da1b1",
   "metadata": {},
   "outputs": [],
   "source": [
    "names = np.array(['小明', '小黄', '小花', '小明', '小花', '小兰', '小白','小明'])\n",
    "print(names)\n"
   ]
  },
  {
   "cell_type": "code",
   "execution_count": null,
   "id": "81ed2791",
   "metadata": {},
   "outputs": [],
   "source": [
    "print(np.unique(names))"
   ]
  },
  {
   "cell_type": "code",
   "execution_count": null,
   "id": "f6318be1",
   "metadata": {},
   "outputs": [],
   "source": [
    "print(sorted(set(names))) #不借助np实现unique函数的效果，但是由于numpy版本更新，python官方的常用函数不匹配np数组"
   ]
  },
  {
   "cell_type": "markdown",
   "id": "b5f6ae3d",
   "metadata": {},
   "source": [
    "为什么会出现 np.str_ 而不是普通字符串？\n",
    "这是因为：\n",
    "- names 是一个 NumPy 数组，元素类型是 np.str_（NumPy 的 Unicode 字符串类型）。\n",
    "- 当你对 set(names) 去重时，集合中仍然保留的是 np.str_ 类型。\n",
    "- sorted() 对集合排序后，返回的是一个列表，但元素类型没有改变，仍然是 np.str_。\n",
    "所以你看到的结果是：\n",
    "[np.str_('小兰'), np.str_('小明'), np.str_('小白'), np.str_('小花'), np.str_('小黄')]"
   ]
  },
  {
   "cell_type": "code",
   "execution_count": null,
   "id": "e7d846bd",
   "metadata": {},
   "outputs": [],
   "source": [
    "ints = np.array([1, 2, 3, 4, 4, 5, 6, 6, 7, 8, 8, 9, 10])\n",
    "print(ints)"
   ]
  },
  {
   "cell_type": "code",
   "execution_count": null,
   "id": "d089c5e7",
   "metadata": {},
   "outputs": [],
   "source": [
    "print(np.unique(ints))"
   ]
  },
  {
   "cell_type": "code",
   "execution_count": null,
   "id": "38625207",
   "metadata": {},
   "outputs": [],
   "source": [
    "arr = np.arange(5)\n",
    "print(arr)"
   ]
  },
  {
   "cell_type": "code",
   "execution_count": null,
   "id": "bb8adbb2",
   "metadata": {},
   "outputs": [],
   "source": [
    "print(np.tile(arr, 3))  # 对数组进行重复"
   ]
  },
  {
   "cell_type": "code",
   "execution_count": null,
   "id": "bf0cc292",
   "metadata": {},
   "outputs": [],
   "source": [
    "np.random.seed(42)  # 设置随机种子\n",
    "arr = np.random.randint(0, 10,size=(3, 3))\n",
    "print(arr)"
   ]
  },
  {
   "cell_type": "code",
   "execution_count": null,
   "id": "5282a132",
   "metadata": {},
   "outputs": [],
   "source": [
    "print(arr.repeat(2, axis=0))  # 按行进行元素重复"
   ]
  },
  {
   "cell_type": "code",
   "execution_count": null,
   "id": "99fa9ac2",
   "metadata": {},
   "outputs": [],
   "source": [
    "print(arr.repeat(2, axis=1))  # 按列进行元素重复"
   ]
  },
  {
   "cell_type": "markdown",
   "id": "26fb424f",
   "metadata": {},
   "source": [
    "### 常用统计函数"
   ]
  },
  {
   "cell_type": "code",
   "execution_count": null,
   "id": "8d8ee3da",
   "metadata": {},
   "outputs": [],
   "source": [
    "arr = np.arange(20).reshape(4, 5)\n",
    "print(arr)"
   ]
  },
  {
   "cell_type": "code",
   "execution_count": null,
   "id": "bb1a9db2",
   "metadata": {},
   "outputs": [],
   "source": [
    "print(np.sum(arr))  # 计算数组的和"
   ]
  },
  {
   "cell_type": "code",
   "execution_count": null,
   "id": "ce088490",
   "metadata": {},
   "outputs": [],
   "source": [
    "print(arr.sum(axis=0))  # 沿着横轴计算求和"
   ]
  },
  {
   "cell_type": "code",
   "execution_count": null,
   "id": "56a27b80",
   "metadata": {},
   "outputs": [],
   "source": [
    "print(arr.sum(axis=1))  # 沿着纵轴计算求和"
   ]
  },
  {
   "cell_type": "code",
   "execution_count": null,
   "id": "63333ccc",
   "metadata": {},
   "outputs": [],
   "source": [
    "print(np.mean(arr))  # 计算数组均值"
   ]
  },
  {
   "cell_type": "code",
   "execution_count": null,
   "id": "47e9ffb5",
   "metadata": {},
   "outputs": [],
   "source": [
    "print(arr.mean(axis=0))  # 沿着横轴计算数组均值"
   ]
  },
  {
   "cell_type": "code",
   "execution_count": null,
   "id": "5613c840",
   "metadata": {},
   "outputs": [],
   "source": [
    "print(arr.mean(axis=1))  # 沿着纵轴计算数组均值"
   ]
  },
  {
   "cell_type": "code",
   "execution_count": null,
   "id": "1c113eab",
   "metadata": {},
   "outputs": [],
   "source": [
    "print(np.std(arr))  # 计算数组标准差"
   ]
  },
  {
   "cell_type": "code",
   "execution_count": null,
   "id": "59eb8a45",
   "metadata": {},
   "outputs": [],
   "source": [
    "print(np.var(arr))  # 计算数组方差"
   ]
  },
  {
   "cell_type": "code",
   "execution_count": null,
   "id": "19fe29d6",
   "metadata": {},
   "outputs": [],
   "source": [
    "print(np.min(arr))  # 计算数组最小值"
   ]
  },
  {
   "cell_type": "code",
   "execution_count": null,
   "id": "c9c88413",
   "metadata": {},
   "outputs": [],
   "source": [
    "print(np.max(arr))  # 计算数组最大值"
   ]
  },
  {
   "cell_type": "markdown",
   "id": "ca1c55e1",
   "metadata": {},
   "source": [
    "argmin和argmax会将索引扁平化处理"
   ]
  },
  {
   "cell_type": "code",
   "execution_count": null,
   "id": "d66db4ac",
   "metadata": {},
   "outputs": [],
   "source": [
    "print(np.argmin(arr))  # 返回数组最小元素的索引"
   ]
  },
  {
   "cell_type": "code",
   "execution_count": null,
   "id": "0976d1d0",
   "metadata": {},
   "outputs": [],
   "source": [
    "print(np.argmax(arr))  # 返回数组最大元素的索引"
   ]
  },
  {
   "cell_type": "code",
   "execution_count": null,
   "id": "b8a57028",
   "metadata": {},
   "outputs": [],
   "source": [
    "arr = np.arange(2, 10)\n",
    "print(arr)\n"
   ]
  },
  {
   "cell_type": "code",
   "execution_count": null,
   "id": "97e25380",
   "metadata": {},
   "outputs": [],
   "source": [
    "print('数组元素的累计和为：', np.cumsum(arr))  # 计算所有元素的累计和"
   ]
  },
  {
   "cell_type": "markdown",
   "id": "f3e71c14",
   "metadata": {},
   "source": [
    "- 计算累计和：每个位置的值是该位置及之前所有元素的和。\n",
    "- 示例：[2, 3, 4] → [2, 2+3=5, 2+3+4=9]"
   ]
  },
  {
   "cell_type": "code",
   "execution_count": null,
   "id": "87eb7670",
   "metadata": {},
   "outputs": [],
   "source": [
    "print('数组元素的累计积为：\\n', np.cumprod(arr))  # 计算所有元素的累计积"
   ]
  },
  {
   "cell_type": "markdown",
   "id": "ebb82509",
   "metadata": {},
   "source": [
    "- 计算累计积：每个位置的值是该位置及之前所有元素的乘积。\n",
    "- 示例：[2, 3, 4] → [2, 2×3=6, 2×3×4=24]"
   ]
  }
 ],
 "metadata": {
  "kernelspec": {
   "display_name": "3.12.5",
   "language": "python",
   "name": "python3"
  },
  "language_info": {
   "codemirror_mode": {
    "name": "ipython",
    "version": 3
   },
   "file_extension": ".py",
   "mimetype": "text/x-python",
   "name": "python",
   "nbconvert_exporter": "python",
   "pygments_lexer": "ipython3",
   "version": "3.12.5"
  }
 },
 "nbformat": 4,
 "nbformat_minor": 5
}
